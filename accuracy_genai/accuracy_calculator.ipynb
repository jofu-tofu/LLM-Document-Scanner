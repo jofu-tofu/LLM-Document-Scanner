{
 "cells": [
  {
   "cell_type": "code",
   "execution_count": null,
   "metadata": {},
   "outputs": [],
   "source": [
    "import pandas as pd\n",
    "import numpy as np\n",
    "\n",
    "def calculate_robust_accuracy(truth_df, test_df, threshold=0.01):\n",
    "    # Perform an outer join to align rows by index (or a specific key column)\n",
    "    merged_df = truth_df.merge(test_df, how='outer', left_index=True, right_index=True, suffixes=('_truth', '_test'))\n",
    "\n",
    "    # Identify rows that are missing in either dataframe\n",
    "    missing_in_truth = merged_df.filter(regex='_test').isna().any(axis=1)\n",
    "    missing_in_test = merged_df.filter(regex='_truth').isna().any(axis=1)\n",
    "\n",
    "    # Calculate element-wise absolute differences for non-missing rows\n",
    "    diff_df = np.abs(merged_df.filter(regex='_truth').values - merged_df.filter(regex='_test').values)\n",
    "\n",
    "    # Handle missing rows: Imputation or Penalization\n",
    "    # Here, we simply penalize missing rows by adding them as 100% error\n",
    "    missing_penalty = missing_in_truth.sum() + missing_in_test.sum()\n",
    "\n",
    "    # Determine if differences are within the threshold\n",
    "    within_threshold = (diff_df <= threshold).sum(axis=1)\n",
    "\n",
    "    # Calculate accuracy excluding penalties\n",
    "    accuracy = within_threshold.sum() / merged_df.shape[0]  # Mean over all non-missing elements\n",
    "\n",
    "    # Adjust accuracy for missing rows\n",
    "    adjusted_accuracy = accuracy - (missing_penalty / merged_df.shape[0])\n",
    "\n",
    "    return max(adjusted_accuracy, 0)  # Ensure accuracy is not negative\n",
    "\n",
    "# Example usage\n",
    "# truth_df = pd.DataFrame(...)  # Your truth dataframe\n",
    "# test_df = pd.DataFrame(...)   # Your test dataframe\n",
    "# accuracy = calculate_robust_accuracy(truth_df, test_df, threshold=0.01)\n",
    "# print(f\"Adjusted Accuracy: {accuracy * 100:.2f}%\")\n"
   ]
  }
 ],
 "metadata": {
  "language_info": {
   "name": "python"
  }
 },
 "nbformat": 4,
 "nbformat_minor": 2
}
