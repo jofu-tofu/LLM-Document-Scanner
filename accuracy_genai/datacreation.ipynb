{
 "cells": [
  {
   "cell_type": "code",
   "execution_count": 11,
   "metadata": {},
   "outputs": [
    {
     "name": "stdout",
     "output_type": "stream",
     "text": [
      "            Sales  Profit  Units Sold\n",
      "Product 1    4174     761          51\n",
      "Product 2    4507     408          69\n",
      "Product 3    1860     869          89\n",
      "Product 4    2294     443          24\n",
      "Product 5    2130     591          71\n",
      "Product 6    2095     513          71\n",
      "Product 7    4772     905          56\n",
      "Product 8    4092     485          71\n",
      "Product 9    2638     291          60\n",
      "Product 10   3169     376          64\n",
      "Product 11   1466     260          73\n",
      "Product 12   2238     559          12\n",
      "Product 13   1330     413          60\n",
      "Product 14   2482     121          16\n",
      "Product 15   3135     352          30\n",
      "Product 16   4444     847          82\n",
      "Product 17   4171     956          48\n",
      "Product 18   3919     660          27\n",
      "Product 19   4735     574          13\n",
      "Product 20   1130     158          98\n",
      "Quantitative DataFrame with 20 rows and 3 columns written successfully.\n"
     ]
    }
   ],
   "source": [
    "import pandas as pd\n",
    "import numpy as np\n",
    "\n",
    "# Set random seed for reproducibility\n",
    "np.random.seed(42)\n",
    "\n",
    "# Generate quantitative data for 20 rows and 3 columns\n",
    "data = {\n",
    "    \"Sales\": np.random.randint(1000, 5000, size=20),   # Random integers between 1000 and 5000\n",
    "    \"Profit\": np.random.randint(100, 1000, size=20),   # Random integers between 100 and 1000\n",
    "    \"Units Sold\": np.random.randint(10, 100, size=20)  # Random integers between 10 and 100\n",
    "}\n",
    "\n",
    "# Create a DataFrame\n",
    "df = pd.DataFrame(data)\n",
    "\n",
    "# Optionally, set custom index names (e.g., 'Product 1', 'Product 2', ..., 'Product 20')\n",
    "df.index = [f'Product {i+1}' for i in range(20)]\n",
    "\n",
    "# Display the DataFrame\n",
    "print(df)\n",
    "\n",
    "# Write the DataFrame to a CSV file\n",
    "df.to_csv('truth.csv', index=True)\n",
    "\n",
    "print(\"Quantitative DataFrame with 20 rows and 3 columns written successfully.\")\n"
   ]
  },
  {
   "cell_type": "code",
   "execution_count": 12,
   "metadata": {},
   "outputs": [
    {
     "name": "stdout",
     "output_type": "stream",
     "text": [
      "    Earnings  Revenue  Quantity\n",
      "0        101     3041        71\n",
      "1        655     4499        50\n",
      "2        665     4417        94\n",
      "3        205     3612        89\n",
      "4        971     3061        87\n",
      "5        489     3824        49\n",
      "6        370     2955        80\n",
      "7        962     3253        74\n",
      "8        576     3139        33\n",
      "9        829     2478        69\n",
      "10       301     1775        24\n",
      "11       915     4152        98\n",
      "12       487     1241        96\n",
      "13       802     2390        35\n",
      "14       261     3556        38\n",
      "15       369     1034        54\n",
      "16       871     3945        91\n",
      "17       501     4003        98\n",
      "18       661     3363        81\n",
      "19       921     2363        62\n",
      "Scrambled DataFrame with renamed columns written successfully.\n"
     ]
    }
   ],
   "source": [
    "import pandas as pd\n",
    "import numpy as np\n",
    "\n",
    "# Original DataFrame with quantitative data\n",
    "data = {\n",
    "    \"Sales\": np.random.randint(1000, 5000, size=20),   # Random integers between 1000 and 5000\n",
    "    \"Profit\": np.random.randint(100, 1000, size=20),   # Random integers between 100 and 1000\n",
    "    \"Units Sold\": np.random.randint(10, 100, size=20)  # Random integers between 10 and 100\n",
    "}\n",
    "\n",
    "# Create the original DataFrame\n",
    "df_original = pd.DataFrame(data)\n",
    "df_original.index = [f'Product {i+1}' for i in range(20)]\n",
    "\n",
    "# Scramble (shuffle) the rows and columns\n",
    "df_scrambled = df_original.sample(frac=1).reset_index(drop=True)  # Shuffle rows\n",
    "df_scrambled = df_scrambled.sample(frac=1, axis=1)                # Shuffle columns\n",
    "\n",
    "# Change some column names to synonyms\n",
    "column_renames = {\n",
    "    \"Sales\": \"Revenue\",        # Sales -> Revenue\n",
    "    \"Profit\": \"Earnings\",      # Profit -> Earnings\n",
    "    \"Units Sold\": \"Quantity\"   # Units Sold -> Quantity\n",
    "}\n",
    "\n",
    "df_scrambled.rename(columns=column_renames, inplace=True)\n",
    "\n",
    "# Display the scrambled DataFrame\n",
    "print(df_scrambled)\n",
    "\n",
    "# Write the scrambled DataFrame to a CSV file\n",
    "df_scrambled.to_csv('scrambled.csv', index=False)\n",
    "\n",
    "print(\"Scrambled DataFrame with renamed columns written successfully.\")\n"
   ]
  },
  {
   "cell_type": "code",
   "execution_count": 9,
   "metadata": {},
   "outputs": [],
   "source": [
    "from langchain_community.chat_models import ChatOllama\n",
    "from langchain_core.output_parsers import CommaSeparatedListOutputParser\n",
    "from langchain_core.prompts import PromptTemplate\n",
    "model = \"llama\"\n",
    "\n",
    "prompt = PromptTemplate(\n",
    "    template=\"Generate a CSV of 20 rows and 3 columns of quantitative data about {subject}.\",\n",
    "    input_variables=['subject']\n",
    ")\n",
    "llm = ChatOllama(model=model,  temperature=0)\n",
    "chain = prompt | llm | CommaSeparatedListOutputParser()\n",
    "excsv = chain.invoke({\"subject\": subject})\n",
    "excsv"
   ]
  },
  {
   "cell_type": "code",
   "execution_count": 8,
   "metadata": {},
   "outputs": [
    {
     "ename": "Error",
     "evalue": "iterable expected, not module",
     "output_type": "error",
     "traceback": [
      "\u001b[1;31m---------------------------------------------------------------------------\u001b[0m",
      "\u001b[1;31mError\u001b[0m                                     Traceback (most recent call last)",
      "Cell \u001b[1;32mIn[8], line 6\u001b[0m\n\u001b[0;32m      3\u001b[0m \u001b[38;5;28;01mwith\u001b[39;00m \u001b[38;5;28mopen\u001b[39m(subject \u001b[38;5;241m+\u001b[39m \u001b[38;5;124m'\u001b[39m\u001b[38;5;124m.csv\u001b[39m\u001b[38;5;124m'\u001b[39m, \u001b[38;5;124m'\u001b[39m\u001b[38;5;124mw\u001b[39m\u001b[38;5;124m'\u001b[39m,newline\u001b[38;5;241m=\u001b[39m\u001b[38;5;124m\"\u001b[39m\u001b[38;5;130;01m\\n\u001b[39;00m\u001b[38;5;124m\"\u001b[39m) \u001b[38;5;28;01mas\u001b[39;00m f:\n\u001b[0;32m      4\u001b[0m     w \u001b[38;5;241m=\u001b[39m csv\u001b[38;5;241m.\u001b[39mwriter(f, delimiter\u001b[38;5;241m=\u001b[39m\u001b[38;5;124m'\u001b[39m\u001b[38;5;124m \u001b[39m\u001b[38;5;124m'\u001b[39m,\n\u001b[0;32m      5\u001b[0m                             quotechar\u001b[38;5;241m=\u001b[39m\u001b[38;5;124m'\u001b[39m\u001b[38;5;124m|\u001b[39m\u001b[38;5;124m'\u001b[39m, quoting\u001b[38;5;241m=\u001b[39mcsv\u001b[38;5;241m.\u001b[39mQUOTE_MINIMAL)\n\u001b[1;32m----> 6\u001b[0m     \u001b[43mw\u001b[49m\u001b[38;5;241;43m.\u001b[39;49m\u001b[43mwriterow\u001b[49m\u001b[43m(\u001b[49m\u001b[43mcsv\u001b[49m\u001b[43m)\u001b[49m\n",
      "\u001b[1;31mError\u001b[0m: iterable expected, not module"
     ]
    }
   ],
   "source": [
    "\n",
    "#write csv to file\n",
    "import csv\n",
    "with open(subject + '.csv', 'w',newline=\"\\n\") as f:\n",
    "    w = csv.writer(f, delimiter=' ',\n",
    "                            quotechar='|', quoting=csv.QUOTE_MINIMAL)\n",
    "    w.writerow(csv)"
   ]
  },
  {
   "cell_type": "markdown",
   "metadata": {},
   "source": []
  }
 ],
 "metadata": {
  "kernelspec": {
   "display_name": "llm",
   "language": "python",
   "name": "python3"
  },
  "language_info": {
   "codemirror_mode": {
    "name": "ipython",
    "version": 3
   },
   "file_extension": ".py",
   "mimetype": "text/x-python",
   "name": "python",
   "nbconvert_exporter": "python",
   "pygments_lexer": "ipython3",
   "version": "3.11.9"
  }
 },
 "nbformat": 4,
 "nbformat_minor": 2
}
