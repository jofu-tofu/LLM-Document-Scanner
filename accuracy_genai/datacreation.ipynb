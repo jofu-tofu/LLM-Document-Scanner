{
 "cells": [
  {
   "cell_type": "code",
   "execution_count": 3,
   "metadata": {},
   "outputs": [
    {
     "name": "stdout",
     "output_type": "stream",
     "text": [
      "            Sales  Profit  Units Sold\n",
      "Product 1    4174     761          51\n",
      "Product 2    4507     408          69\n",
      "Product 3    1860     869          89\n",
      "Product 4    2294     443          24\n",
      "Product 5    2130     591          71\n",
      "Product 6    2095     513          71\n",
      "Product 7    4772     905          56\n",
      "Product 8    4092     485          71\n",
      "Product 9    2638     291          60\n",
      "Product 10   3169     376          64\n",
      "Product 11   1466     260          73\n",
      "Product 12   2238     559          12\n",
      "Product 13   1330     413          60\n",
      "Product 14   2482     121          16\n",
      "Product 15   3135     352          30\n",
      "Product 16   4444     847          82\n",
      "Product 17   4171     956          48\n",
      "Product 18   3919     660          27\n",
      "Product 19   4735     574          13\n",
      "Product 20   1130     158          98\n",
      "Quantitative DataFrame with 20 rows and 3 columns written successfully.\n"
     ]
    }
   ],
   "source": [
    "import pandas as pd\n",
    "import numpy as np\n",
    "\n",
    "# Set random seed for reproducibility\n",
    "np.random.seed(42)\n",
    "\n",
    "# Generate quantitative data for 20 rows and 3 columns\n",
    "data = {\n",
    "    \"Sales\": np.random.randint(1000, 5000, size=20),   # Random integers between 1000 and 5000\n",
    "    \"Profit\": np.random.randint(100, 1000, size=20),   # Random integers between 100 and 1000\n",
    "    \"Units Sold\": np.random.randint(10, 100, size=20)  # Random integers between 10 and 100\n",
    "}\n",
    "\n",
    "# Create a DataFrame\n",
    "df = pd.DataFrame(data)\n",
    "\n",
    "# Optionally, set custom index names (e.g., 'Product 1', 'Product 2', ..., 'Product 20')\n",
    "df.index = [f'Product {i+1}' for i in range(20)]\n",
    "\n",
    "# Display the DataFrame\n",
    "print(df)\n",
    "\n",
    "# Write the DataFrame to a CSV file\n",
    "df.to_csv('truth.csv', index=True)\n",
    "\n",
    "print(\"Quantitative DataFrame with 20 rows and 3 columns written successfully.\")\n"
   ]
  },
  {
   "cell_type": "code",
   "execution_count": 6,
   "metadata": {},
   "outputs": [
    {
     "name": "stdout",
     "output_type": "stream",
     "text": [
      "     Revenue  Profit  Quantity\n",
      "P4      2294     443        24\n",
      "P5      2130     591        71\n",
      "P6      2095     513        71\n",
      "P16     4444     847        82\n",
      "P17     4171     956        48\n",
      "P10     3169     376        64\n",
      "P11     1466     260        73\n",
      "P14     2482     121        16\n",
      "P3      1860     869        89\n",
      "P19     4735     574        13\n",
      "P20     1130     158        98\n",
      "P12     2238     559        12\n",
      "P18     3919     660        27\n",
      "P8      4092     485        71\n",
      "P9      2638     291        60\n",
      "P7      4772     905        56\n",
      "P1      4174     761        51\n",
      "P13     1330     413        60\n",
      "P15     3135     352        30\n",
      "Scrambled DataFrame with renamed columns written successfully.\n"
     ]
    }
   ],
   "source": [
    "import pandas as pd\n",
    "import numpy as np\n",
    "\n",
    "# Original DataFrame with quantitative data\n",
    "\n",
    "# Create the original DataFrame\n",
    "df_original = pd.DataFrame(data)\n",
    "df_original.index = [f'P{i+1}' for i in range(20)]\n",
    "df_original.rename(columns = {\"Sales\": \"Revenue\", \"Profit\": \"Profit\", \"Units Sold\": \"Quantity\"}, inplace=True)\n",
    "# Scramble (shuffle) the rows and columns\n",
    "df_scrambled = df_original.sample(frac=1)  # Shuffle rows\n",
    "df_scrambled = df_scrambled.sample(frac=1, axis=1)                # Shuffle columns\n",
    "df_scrambled.drop(index=\"P2\", inplace=True)\n",
    "\n",
    "\n",
    "# Display the scrambled DataFrame\n",
    "print(df_scrambled)\n",
    "\n",
    "# Write the scrambled DataFrame to a CSV file\n",
    "df_scrambled.to_csv('scrambled.csv', index=True)\n",
    "\n",
    "print(\"Scrambled DataFrame with renamed columns written successfully.\")\n"
   ]
  }
 ],
 "metadata": {
  "kernelspec": {
   "display_name": "llm",
   "language": "python",
   "name": "python3"
  },
  "language_info": {
   "codemirror_mode": {
    "name": "ipython",
    "version": 3
   },
   "file_extension": ".py",
   "mimetype": "text/x-python",
   "name": "python",
   "nbconvert_exporter": "python",
   "pygments_lexer": "ipython3",
   "version": "3.11.9"
  }
 },
 "nbformat": 4,
 "nbformat_minor": 2
}
