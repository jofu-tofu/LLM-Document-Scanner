{
 "cells": [
  {
   "cell_type": "markdown",
   "metadata": {},
   "source": [
    "### Context of this Notebook\n",
    "\n",
    "The purpose of this notebook is to introduce some of the models and processes that I'll be using in a simpler context. It'll take our PDF document and chunk it before running it through a lightweight RAG process powered by Ollama.\n",
    "\n",
    "Checking Important dependencies"
   ]
  },
  {
   "cell_type": "code",
   "execution_count": 2,
   "metadata": {},
   "outputs": [
    {
     "name": "stdout",
     "output_type": "stream",
     "text": [
      "CUDA Available: True\n"
     ]
    }
   ],
   "source": [
    "import torch\n",
    "print('CUDA Available:', torch.cuda.is_available())"
   ]
  },
  {
   "cell_type": "markdown",
   "metadata": {},
   "source": [
    "Defining paths"
   ]
  },
  {
   "cell_type": "code",
   "execution_count": 10,
   "metadata": {},
   "outputs": [],
   "source": [
    "import dotenv\n",
    "dotenv.load_dotenv()\n",
    "file_name = \"sample-new-fidelity-acnt-stmt\"\n",
    "pdf_data_path = \"./pdf_data/\" + file_name + \".pdf\"\n",
    "text_data_path = \"./text_data/\" + file_name + \".txt\""
   ]
  },
  {
   "cell_type": "markdown",
   "metadata": {},
   "source": [
    "First,  we want to convert our PDF to image and run it through an OCR model. I will use Microsoft TrOCR tuned on invoice data"
   ]
  },
  {
   "cell_type": "code",
   "execution_count": 4,
   "metadata": {},
   "outputs": [],
   "source": [
    "from pdf2image import convert_from_path\n",
    "from PIL import Image\n",
    "from pytesseract import image_to_string\n",
    "\n",
    "def extract_text_from_pdf(pdf_path):\n",
    "    try:\n",
    "        # Convert PDF to images\n",
    "        images = convert_from_path(pdf_path, dpi=150)  # Adjust DPI if needed\n",
    "    except Exception as e:\n",
    "        print(f\"Error converting PDF to images: {e}\")\n",
    "        return None\n",
    "\n",
    "    text = \"\"\n",
    "    for image in images:\n",
    "        try:\n",
    "            # Convert image to RGB\n",
    "            pil_image = image.convert('RGB')\n",
    "            # Process the image and generate pixel values\n",
    "            addText = image_to_string(pil_image)\n",
    "            text += addText\n",
    "        except Exception as e:\n",
    "            print(f\"Error processing image: {e}\")\n",
    "    return text"
   ]
  },
  {
   "cell_type": "code",
   "execution_count": 5,
   "metadata": {},
   "outputs": [],
   "source": [
    "import os\n",
    "\n",
    "pdf_text = ''\n",
    "os.makedirs(\"text_data\", exist_ok=True)\n",
    "if not os.path.exists(f\"text_data/{file_name}.txt\"):\n",
    "    with open(f\"text_data/{file_name}.txt\", \"w\") as f:\n",
    "        pdf_text = extract_text_from_pdf(pdf_data_path)\n",
    "        f.write(pdf_text)"
   ]
  },
  {
   "cell_type": "markdown",
   "metadata": {},
   "source": [
    "Now that we have our text-file, we want to transform our query into something better based on the info in the document. To do this, we need to first set up a retreiver strategy so we can get relevant information from the document we just created.\n",
    "\n",
    "Lets split our document into chunks. There are many ways to do this depending on needs."
   ]
  },
  {
   "cell_type": "code",
   "execution_count": 6,
   "metadata": {},
   "outputs": [
    {
     "data": {
      "text/plain": [
       "['*** SAMPLE STATEMENT *** For informational purposes only INVESTMENT REPORT  ¢ Fidelity July 1 — July 31, 2015  FMV E STADE eT  Your Portfolio Value: $274,222.20  Envelope # BABCEJBBPRTLA Change from Last Period: A $21,000.37  John W. Doe 100 Main St. This Period Year-to-Date Boston, MA 02201 Beginning Portfolio Value $253,221.83 $232,643.16 Additions 59,269.64 121,433.55 Subtractions -45,430.74 -98,912.58 Transaction Costs, Fees & Charges -139.77 -625.87 Change in Investment Value* 7,161.47 19,058.07 Ending',\n",
       " 'in Investment Value* 7,161.47 19,058.07 Ending Portfolio Value** $274,222.20 $274,222.20  * — Appreciation or depreciation of your holdings due to price changes plus any distribution and income earned during the statement period. ** Excludes unpriced securities.  Contact Information  Online Fidelity.com FASTs™ Automated Telephone (800) 544-5555 Private Client Group (800) 544-5704  Welcome to your new Fidelity statement.  Your account numbers can be found on page 2 in the Accounts Included in this Report']"
      ]
     },
     "execution_count": 6,
     "metadata": {},
     "output_type": "execute_result"
    }
   ],
   "source": [
    "from langchain_text_splitters import RecursiveCharacterTextSplitter\n",
    "\n",
    "text_splitter = RecursiveCharacterTextSplitter(\n",
    "    chunk_size=512,\n",
    "    chunk_overlap=50,\n",
    ")\n",
    "\n",
    "with open(f\"text_data/{file_name}.txt\", \"r\") as f:\n",
    "    pdf_text = f.read()\n",
    "passages = text_splitter.split_text(pdf_text)\n",
    "passages[:2]"
   ]
  },
  {
   "cell_type": "markdown",
   "metadata": {},
   "source": [
    "Now we need to turn our passages into vector embeddings that we can store. This will help with retreiving relevant passages by putting them in a way that our machines can understand, a vector representation. We can use many different embeddings that depend on the type of documents we want to retreive from and what our purpose is. Different semantical meanings will have different embeddings depending on what you use.\n",
    "\n",
    "Nomic is a local lightweight embedding"
   ]
  },
  {
   "cell_type": "code",
   "execution_count": 7,
   "metadata": {},
   "outputs": [],
   "source": [
    "from langchain_community.vectorstores import SKLearnVectorStore\n",
    "from langchain_nomic.embeddings import NomicEmbeddings\n",
    "\n",
    "# Define open source embeddings\n",
    "embedding = NomicEmbeddings(model=\"nomic-embed-text-v1.5\", inference_mode=\"local\")\n",
    "\n",
    "vectorstore = SKLearnVectorStore.from_texts(\n",
    "    texts=passages,\n",
    "    embedding=embedding,\n",
    ")\n",
    "retriever = vectorstore.as_retriever(k=8)"
   ]
  },
  {
   "cell_type": "markdown",
   "metadata": {},
   "source": [
    "We now have a vectorstore of our document. We set k=8 for the retreiver, but this can depend on our chunking and context length for our LLM model. We can also put in documents that augment this if needed. For example, a description may be important if a use queries on use case.\n",
    "\n",
    "Next step is to set up a RAG workflow."
   ]
  },
  {
   "cell_type": "code",
   "execution_count": 8,
   "metadata": {},
   "outputs": [
    {
     "data": {
      "text/plain": [
       "[Document(metadata={'id': 'c75bc94d-b90d-4361-8aed-62321eb657ed'}, page_content='and Certificates of Deposit (CDs). There is no guarantee that Al will be paid by the issuer. Al for treasury and GNMA securities, however, is backed by the full faith and credit of the United States Government. Al totals represent accruals for only those securities with listed Al in the Holdings section of this statement. Please refer to the Help/Glossary section of Fidelity.com for additional information. See Cost Basis Information and Endnotes for important information about the adjusted cost basis'),\n",
       " Document(metadata={'id': '94e3d052-e77b-495d-9541-fac12e413950'}, page_content='from the following securities: preferred stocks, international stocks, exchange trade products (ETF\\'s & ETN\\'s), UITs, variable rate bonds, and international bonds, but may be included in future enhancements.  18 of 28 *** SAMPLE STATEMENT *** For informational purposes only INVESTMENT REPORT July 1 — July 31, 2015  €\" Fidelity  PME SOT ADE Me 7  $142,413.12  Vv $5,180.68  Account Value: Account 222-222222 John W. Doe - Traditional IRA  Change in Account Value Account Holdings  This Period Year-to-Date'),\n",
       " Document(metadata={'id': '4089620a-a87e-4930-886c-b907b87db9f2'}, page_content='28  Bonds 20 Short-term 6 Top Holdings Other 4 Percent of  Description Value Portfolio IMPORTANT: If you have any unsettled trades pending, the asset allocation presented above Johnson & Johnson (JNJ) $47,113.80 17% may be materially impacted and, depending on the size and scope of such unsettled trades,  Apple Inc (AAPL) 28,892.05 9 rendered unreliable. Asset allocation includes Other Holdings and Assets Held Away when applicable. Please note that, due to rounding, percentages may not add to 100%. For'),\n",
       " Document(metadata={'id': '90463fa1-7cad-4986-b2f4-3b4b23381b20'}, page_content='first-in, first-out (FIFO) method for all other securities. Cost basis is adjusted for wash sales on securities with the same CUSIP held in the same account (unless your account receives mark-to-market reporting). Your statement may not reflect all adjustments required for tax purposes. Customers should consult their tax advisors for further information.  Cost Fidelity provides purchase cost information for securities held in retirement and HSA accounts. Such information may be adjusted for certain')]"
      ]
     },
     "execution_count": 8,
     "metadata": {},
     "output_type": "execute_result"
    }
   ],
   "source": [
    "retriever.invoke(\"Get me a csv of all asset quantities.\")"
   ]
  },
  {
   "cell_type": "code",
   "execution_count": 14,
   "metadata": {},
   "outputs": [],
   "source": [
    "from langchain_community.chat_models import ChatOllama\n",
    "llama_model = ChatOllama(model=\"llama3.1:70b\", temperature=0)"
   ]
  },
  {
   "cell_type": "code",
   "execution_count": 16,
   "metadata": {},
   "outputs": [],
   "source": [
    "from langchain import hub\n",
    "from langchain_core.runnables import RunnablePassthrough\n",
    "from langchain_core.output_parsers import StrOutputParser\n",
    "prompt = hub.pull(\"rlm/rag-prompt\")\n",
    "def format_docs(docs):\n",
    "    return \"\\n\\n\".join(doc.page_content for doc in docs)\n",
    "\n",
    "\n",
    "rag_chain = (\n",
    "    {\"context\": retriever | format_docs, \"question\": RunnablePassthrough()}\n",
    "    | prompt\n",
    "    | llama_model\n",
    "    | StrOutputParser()\n",
    ")\n",
    "\n"
   ]
  },
  {
   "cell_type": "code",
   "execution_count": 17,
   "metadata": {},
   "outputs": [
    {
     "data": {
      "text/plain": [
       "'This document appears to be a sample brokerage account statement from Fidelity. It provides information about various aspects of the account, including interest rates, option transactions, cost basis, and gain/loss information. The document also includes disclaimers and instructions for reviewing and reporting any inaccuracies or discrepancies in the statement.'"
      ]
     },
     "execution_count": 17,
     "metadata": {},
     "output_type": "execute_result"
    }
   ],
   "source": [
    "rag_chain.invoke(\"Describe this document to me.\")"
   ]
  }
 ],
 "metadata": {
  "kernelspec": {
   "display_name": "Python 3",
   "language": "python",
   "name": "python3"
  },
  "language_info": {
   "codemirror_mode": {
    "name": "ipython",
    "version": 3
   },
   "file_extension": ".py",
   "mimetype": "text/x-python",
   "name": "python",
   "nbconvert_exporter": "python",
   "pygments_lexer": "ipython3",
   "version": "3.11.9"
  }
 },
 "nbformat": 4,
 "nbformat_minor": 2
}
