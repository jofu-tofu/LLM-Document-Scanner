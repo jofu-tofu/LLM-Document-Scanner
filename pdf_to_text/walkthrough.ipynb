{
 "cells": [
  {
   "cell_type": "markdown",
   "metadata": {},
   "source": [
    "### Context of this Notebook\n",
    "\n",
    "The purpose of this notebook is to introduce some of the models and processes that I'll be using in a simpler context. It'll take our PDF document and chunk it before running it through a lightweight RAG process powered by Ollama.\n",
    "\n",
    "Checking Important dependencies"
   ]
  },
  {
   "cell_type": "code",
   "execution_count": 2,
   "metadata": {},
   "outputs": [
    {
     "name": "stdout",
     "output_type": "stream",
     "text": [
      "CUDA Available: True\n"
     ]
    }
   ],
   "source": [
    "import torch\n",
    "print('CUDA Available:', torch.cuda.is_available())"
   ]
  },
  {
   "cell_type": "markdown",
   "metadata": {},
   "source": [
    "Defining paths"
   ]
  },
  {
   "cell_type": "code",
   "execution_count": 6,
   "metadata": {},
   "outputs": [],
   "source": [
    "import dotenv\n",
    "dotenv.load_dotenv()\n",
    "file_name = \"sample-new-fidelity-acnt-stmt\"\n",
    "pdf_data_path = \"./pdf_data/\" + file_name + \".pdf\"\n",
    "text_data_path = \"./text_data/\" + file_name + \".txt\""
   ]
  },
  {
   "cell_type": "markdown",
   "metadata": {},
   "source": [
    "First,  we want to convert our PDF to image and run it through an OCR model. I will use Microsoft TrOCR tuned on invoice data"
   ]
  },
  {
   "cell_type": "code",
   "execution_count": 7,
   "metadata": {},
   "outputs": [],
   "source": [
    "from pdf2image import convert_from_path\n",
    "from PIL import Image\n",
    "from pytesseract import image_to_string\n",
    "\n",
    "def extract_text_from_pdf(pdf_path):\n",
    "    try:\n",
    "        # Convert PDF to images\n",
    "        images = convert_from_path(pdf_path, dpi=150)  # Adjust DPI if needed\n",
    "    except Exception as e:\n",
    "        print(f\"Error converting PDF to images: {e}\")\n",
    "        return None\n",
    "\n",
    "    text = \"\"\n",
    "    for image in images:\n",
    "        try:\n",
    "            # Convert image to RGB\n",
    "            pil_image = image.convert('RGB')\n",
    "            # Process the image and generate pixel values\n",
    "            addText = image_to_string(pil_image)\n",
    "            text += addText\n",
    "        except Exception as e:\n",
    "            print(f\"Error processing image: {e}\")\n",
    "    return text"
   ]
  },
  {
   "cell_type": "code",
   "execution_count": 8,
   "metadata": {},
   "outputs": [],
   "source": [
    "import os\n",
    "\n",
    "pdf_text = ''\n",
    "os.makedirs(\"text_data\", exist_ok=True)\n",
    "if not os.path.exists(f\"text_data/{file_name}.txt\"):\n",
    "    with open(f\"text_data/{file_name}.txt\", \"w\") as f:\n",
    "        pdf_text = extract_text_from_pdf(pdf_data_path)\n",
    "    f.write(pdf_text)"
   ]
  },
  {
   "cell_type": "markdown",
   "metadata": {},
   "source": [
    "Now that we have our text-file, we want to transform our query into something better based on the info in the document. To do this, we need to first set up a retreiver strategy so we can get relevant information from the document we just created.\n",
    "\n",
    "Lets split our document into chunks. There are many ways to do this depending on needs."
   ]
  },
  {
   "cell_type": "code",
   "execution_count": 9,
   "metadata": {},
   "outputs": [
    {
     "data": {
      "text/plain": [
       "['*“\" SAMPLE STATEMENT ***\\nFor informational purposes only INVESTMENT REPORT\\n\\n69 Fidelil f July 1 - July 31, 2015\\n\\nYour Portfolio Value: $274,222.20\\n\\nEnvelope # BABCEJBBPRTLA Change from Last Period: A $21,000.37',\n",
       " 'John W. Doe\\npe Main et 02201 This Period Year-to-Date\\nston, Beginning Portfolio Value $253,221.83 $232,643.16\\nAdditions 59,269.64 121,433.55\\nSubtractions -45,430.74 -98,912.58\\nTransaction Costs, Fees & Charges -139.77 ~625.87\\nChange in Investment Value* 7,161.47 19,058.07\\nEnding Portfolio Value** $274,222.20 $274,222.20\\n\\nAppreciation or depreciation of your holdings due to price changes plus any distribution and\\nincome earned during the statement period.\\n* Excludes unpriced securities.',\n",
       " 'Contact Information\\n\\nOnline Fidelity.com\\nFAST\" Automated Telephone (800) 544-5555,\\nPrivate Client Group (800) 544-5704\\n\\nWelcome to your new Fidelity statement.\\n\\nYour account numbers can be found on page 2 in the Accounts Included in this\\nReport section. Your statement also has a new look and more information. We hope\\nyou find the changes beneficial and we look forward to hearing your feedback.',\n",
       " 'Brokerage services provided by Fidelity Brokerage Services LLC (FBS), Member NYSE, SIPC (800) 544-6666. Brokerage accounts carried with National Financial Services LLC (NFS), Member NYSE, SIPC.\\n\\n1 of 28\\n*** SAMPLE STATEMENT ***\\nFor informational purposes only\\n\\n(Fidelity\\n\\nPortfolio Summary\\n\\nAccounts Included in This Report\\n\\nINVESTMENT REPORT\\nJuly 1 - July 31, 2015\\n\\nPage Account Type/Name Account Number Beginning Value Ending Value\\nGENERAL INVESTMENTS',\n",
       " '5 John W. Doe - Individual - TOD 4111-11111 $88,0853.95 $103,351.18\\nPERSONAL RETIREMENT\\n\\n23 John W. Doe - Traditional IRA. 222-222222 137,232.44 142,413.12\\nEDUCATION (529) ACCOUNTS\\n\\n29 John W. Doe - Education Account 333-333333 27,935.44 28,457.90\\nTotal Portfolio $253,221.83 $274,222.20\\n\\nIncludes transfers between Fidelity accounts.\\nAppreciation or depreciation of your holdings due to price changes plus any distribution and\\nincome eamed during the statement period.\\n\\nDo more with your money.',\n",
       " 'Do more with your money.\\n\\nTransfer funds, pay bills, earn credit card rewards and more. Learn more about\\n\\nthe Fidelity Cash Management Account by calling 1-800-FIDELITY or visit\\n\\nfidelit .com/cashmanagement\\n\\nThe Fidelity Portfolio Advisory Service® account offers professional money man-\\nagement and access to our proprietary research through model portfolios of mutual\\nfunds. Get a complimentary investment proposal by calling Fidelity at 800-544-1766.\\n\\n2 of 28\\nFidelity\\n\\nPortfolio Summary (continued)',\n",
       " '2 of 28\\nFidelity\\n\\nPortfolio Summary (continued)\\n\\nIncome Summary\\n\\n** SAMPLE STATEMENT ***\\n\\nFor informational purposes only',\n",
       " 'This Period Year-to-Date\\nTaxable $178.53 $2,839.92\\nDividends 178.53 1,548.74\\nInterest — 10.25\\nShort-term Capital Gains — 255.68\\nLong-term Capital Gains — 1,025.25\\nTax-exempt $372.10 $3,384.74\\nDividends — 1,725.87\\nInterest 372.10 1,658.87\\nTax-deferred $500.31 $7,020.49\\nReturn of Capital $4,000.00 $8,500.00\\nLiquidations — $1,576.16\\nTotal $5,050.94 $23,278.62\\nTop Holdings\\nPercent of\\nDescription Value __ Portfolio\\nJohnson & Johnson (JNJ) $47,113.80 17%\\nApple Inc (AAPL) 28,892.05 9',\n",
       " 'Apple Inc (AAPL) 28,892.05 9\\nNH Portfolio 2015 Delphi 21,221.14 7\\nCorp Jr Sb Nt Sim Corp 15,375.00 5\\nSpi Lkd Nt (OSM) 13,859.10 5\\nTotal $126,461.09 45%',\n",
       " 'INVESTMENT REPORT\\nJuly 1 — July 31, 2015\\n\\nAsset Allocation\\n\\n4% Other\\n6% Short-term\\n\\n9 _\\n20% Bonds 42% Domestic Stock\\n\\n28% Foreign Stock\\n\\nPercent of\\nAsset Class Portfolio\\nDomestic Stock 42%\\nForeign Stock 28\\nBonds 20\\nShort-term 6\\nOther 4',\n",
       " 'IMPORTANT: If you have any unsettled trades pending, the asset allocation presented above\\nmay be materially impacted and, depending on the size and scope of such unsettled trades,\\nrendered unreliable. Asset allocation includes Other Holdings and Assets Held Away when\\napplicable. Please note that, due to rounding, percentages may not add to 100%. For further\\ndetails, please see \"Frequently Asked Questions\" at Fidelity.com/Statements.\\n\\n3 of 28\\n(Fidelity\\n\\nAccount Value:\\n\\nChange in Account Value',\n",
       " 'Account Value:\\n\\nChange in Account Value\\n\\n*** SAMPLE STATEMENT ***\\nFor informational purposes only\\n\\n$103,351.18\\n\\nA $15,297.23\\n\\nThis Period Year-to-Date',\n",
       " 'Beginning Account Value $88,053.95 $76,911.26\\nAdditions $59,269.64 $107,124.70\\nDeposits 9,465.00 35,871.01\\nSecurities Transferred In 49,804.64 71,253.69\\nSubtractions -$45,430.74 -$94,297.76\\nWithdrawals -5,485.00 -32,581.02\\nSecurities Transferred Out -5,000.00 -5,000.00\\nCards, Checking & Bill Payments -33,842.96 -54,258.13\\nTrans. Costs, Fees & Charges -139.77 ~625.87\\nTaxes Withheld -963.01 1,832.74\\nChange in Investment Value* $1,458.33 $13,612.98\\nEnding Account Value $103,351.18 $103,351.18',\n",
       " '* Appreciation or depreciation of your holdings due to price changes plus any distribution\\n\\nand income earned during the statement period.\\n\\nAccount Holdings\\n\\n3% Core Account\\n5% Other\\n\\n11% Exchange Traded Products\\n\\n12% Mutual Funds\\n\\n32% Stocks\\n\\nINVESTMENT REPORT\\nJuly 1 — July 31, 2015\\n\\nAccount 111-111111\\nJohn W. Doe - Individual TOD\\n\\n37% Bonds',\n",
       " '37% Bonds\\n\\nPercent of\\nHolding Type Value Account\\nBonds 50,656 37%\\nStocks 43,724 32\\nMutual Funds 16,387 12\\nExchange Traded Products 14,462 11\\nOther 6,740 5\\nCore Account 3,500 3\\nEnding Market Value of Holdings $108,051 100%\\nTop Holdings\\nPercent of\\nDescription Value Account\\nApple Inc (AAPL) 13,132.75 12%\\nDoubleline Total Return Bond (DBLTX) 11,361.52 11\\nNew York NY City Indl Dev Agy Rev 10,744.20 10\\nSpdr Sertr Barclays Cap High Yield (JNK) 10,165.00 9\\nFederal Natl Mtg Assn 10,000.00 9\\nTotal $55,403.47 51%',\n",
       " '4 of 28\\n(Fidelity\\n\\nAccount Summary (continued)\\n\\nCore Account Cash Flow\\nCore Account: FDIC Insured Deposit at Fifth Third Bank\\n\\n*** SAMPLE STATEMENT ***\\nFor informational purposes only',\n",
       " 'This Period Year-to-Date\\nBeginning Core Account Balance $27,907.16 $15,061.66\\nINVESTMENT ACTIVITY\\nSecurities Bought -22,712.90 -102,997.45\\nSecurities Sold 25,801.00 155,987.33\\nDividends, Interest and Other Income? 4,550.63 16,258.13\\nTransaction Costs -95.40 -445.18\\nOther Activity 594.10 1,641.58\\nTotal Investment Activity $8,137.43 $70,444.41\\nCASH MANAGEMENT ACTIVITY\\nDeposits 9,465.00 55,000.00\\nWithdrawals -5,485.00 -33,587.28\\nTaxes Withheld -963.01 -4,520.22\\nChecking Activity -24,432.10 -49,584.12',\n",
       " 'Checking Activity -24,432.10 -49,584.12\\nDebit Card Activity -3,065.81 -14,358.77\\nBill Payments 6,345.05 -14,958.62\\nFees & Charges -44.37 -325.69\\nMargin Interest -1,673.75 -19,670.87\\nTotal Cash Management Activity ~$32,544.09 -$82,005.57\\nEnding Core Account Balance $3,500.50 $3,500.50',\n",
       " 'D Includes dividend reinvestments.\\n\\nIncome Summary\\n\\nINVESTMENT REPORT\\nJuly 1 — July 31, 2015\\n\\nAccount 111-111111\\nJohn W. Doe - Individual TOD\\n\\nThis Period Year-to-Date\\n\\nTaxable $178.53 $2,839.92\\nDividends 178.53 1,548.74\\nInterest — 10.25\\nShort-term Capital Gains — 255.68\\nLong-term Capital Gains — 1,025.25\\nTax-exempt $372.10 3,384.74\\nDividends — 1,725.87\\nInterest 372.10 1,658.87\\nReturn of Capital $4,000.00 $8,500.00\\nLiquidations — $1,533.47\\nTotal $4,550.63 $16,258.13\\n\\nRealized Gains and Losses from Sales',\n",
       " 'Realized Gains and Losses from Sales\\n\\n(May not reflect all gains and losses due to incomplete cost basis)\\n\\nThis Period Year-to-Date\\n\\nNet Short-term Gain/Loss\\n\\nShort-term Gain\\n\\nShort-term Loss\\n\\nShort-term Disallowed Loss\\nNet Long-term Gain/Loss\\n\\nLong-term Gain\\n\\nLong-term Loss\\n\\nLong-term Disallowed Loss\\nNet Gain/Loss\\n\\n= $115.89\\n— 255.68\\n_ -148.54\\n_ 8.75\\n_ 507.97\\n— 1,025.25\\n— -850.45\\n= 333.17\\n= $623.86\\n\\n5 of 28\\n(Fidel\\n\\nly\\n\\n** SAMPLE STATEMENT ***\\n\\nFor informational purposes only',\n",
       " 'For informational purposes only\\n\\nINVESTMENT REPORT\\nJuly 1 - July 31, 2015',\n",
       " 'Holdings Account 111-111111\\nJohn W. Doe - Individual TOD\\nCore Account\\nTotal Unrealized Est.Annual Est. Yield\\nDescription Quantity Price Ending Value Cost Basis Gain/Loss Income (EAI) (EY)\\nFDIC INSURED DEPOSIT AT FIFTH THIRD BANK 3,500.500 $1.000 $3,500.50 N/A - _- _-\\nIRA NOT COVERED BY SIPC (QPIKQ) ?\\n= Interest rate: 0.010%\"\\nTotal Core Account (3% of account holdings) $3,500.50\\nMutual Funds\\nPrice Ending Total Unrealized Est.Annual Est.',\n",
       " 'Price Ending Total Unrealized Est.Annual Est.\\nDescription Quantity Per Unit Market Value Cost Basis Gain/Loss Income (EAI) (EY)\\nBond Funds\\nDOUBLELINE TOTAL RETURN BOND FD CLI 1,015.328 $11.190 $11,361.52 $7,536.91 $3,824.61 $531.72 4.68%\\n(DBLTX)\\n— 30-day yield: 4.83%\\nShort-term Funds\\nFIDELITY INSTL MMKT PORT CL | (FMPXX) 5,025.810 $1.000 $5,025.81 N/A NIA _\\n— 7-day yield: 0.01%\\nTotal Mutual Funds (12% of account holdings) $16,387.33 $7,536.91 $3,824.61 $531.72\\nExchange Traded Products = (e.g. ETF, ETN)',\n",
       " 'Exchange Traded Products = (e.g. ETF, ETN)\\nPrice Ending Total Unrealized\\nDescription Quantity Per Unit Market Value Cost Basis Gain/Loss\\nSPDR SER TR BARCLAYS CAP HIGH YIELD BD 250.00 $40.66 $10,165.00 $10,000.00¢ $165.00\\nETF (JNK)\\nVANGUARD INTL EQUITY INDEX FDS MSCI 100.00 42.97 4,297.00 5,000.00 -703.00\\nEUROPE ETF (VJK)\\nTotal Exchange Traded Products (11% of account holdings) $14,462.00 $15,000.00 -$538.00',\n",
       " '6 of 28\\n(Fidelity\\n\\nHoldings (continued)\\n\\n*** SAMPLE STATEMENT ***\\nFor informational purposes only\\n\\nINVESTMENT REPORT\\nJuly 1 — July 31, 2015\\n\\nAccount 111-111111\\nJohn W. Doe - Individual TOD',\n",
       " 'Stocks\\nPrice Ending Total Unrealized Est. Annual .\\nDescription Quantity Per Unit Market Value Cost Basis Gain/Loss___Income (EAl) (EY)\\nCommon Stocks\\nAPPLE INC (AAPL) 25.00 525.31 $13,132.75 $9,350.12¢ $3,782.63 $304.68 2.32%\\nAMERCO COM (UHAL) 30.00 203.15A 6,094.50 4,149.75¢ 1,944.75 _\\nENSTAR GROUP LIMITED COM STK USD 1.00 ~100.00 137.10 -13,710.00 -14,510.99¢ 800.99 _\\n(ESGR)\\nTotal Common Stock (24% of account holdings) $5,517.25 $-1,011.12 $6,528.37 $304.68\\nPreferred Stocks',\n",
       " 'Preferred Stocks\\nBANK AMER CORP DEP SHS REPSTG 1/1200TH 150.00 $20.230 $3,034.50 $2,470.16 $564.34\\nPFD SER 5 (BMLPRL)\\nMCITIGROUP INC DEP SH REP STG 1/100TH INT 300.00 25.843 7,752.90 6,895.40 857.50\\nNON CUMULATIVE PFD SER F 8.50% (CPRM)\\nISIN: US1729675561\\nTotal Preferred Stock (8% of account holdings) $10,787.40 $9,365.56 $1,421.84\\nTotal Stocks (32% of account holdings) $43,724.65 $37,376.42 $6,348.23 $304.68\\nBonds\\nPrice Ending Market Value Total Unrealized Est.Annual Coupon',\n",
       " 'Description Maturity Quantity Per Unit Accrued Interest (Al) Cost Basis Gain/Loss___Income (EAl) Rate\\nAsset Backed Securities\\nFEDERAL NATL MTG ASSN 12/17/13 10,000.00 $100.00 $10,000.00 $10,250.00! -$250.00 $125.00 1.25%\\nCUSIP: 3136FPEX1\\nInt. Semi-Annually\\nTotal Asset Backed Securities (7% of account holdings) $10,000.00 $10,250.00 -$250.00 $125.00',\n",
       " '7 of 28\\nFidelity\\nHoldings (continued)\\n\\nBonds (continued)\\n\\n*** SAMPLE STATEMENT ***\\nFor informational purposes only\\n\\nINVESTMENT REPORT\\nJuly 1 — July 31, 2015\\n\\nAccount 111-111111\\nJohn W. Doe - Individual TOD',\n",
       " 'Price — Ending Market Value Total Unrealized Est.Annual Coupon\\nDescription Maturity Quantity Per Unit Accrued Interest (Al) Cost Basis Gain/Loss___Income (EAl) Rate\\nCorporate Bonds\\nSABRATEK CORP NT CV 12/15/13 5,000.00 $101.250 $5,062.50 $10,000.00! ~$4,937.50 $300.00 6.00%\\nCUSIP: 78571UAA6\\nInt. Semi-Annually\\nCALPINE CORP ESCROW 4 131347BD7 11/15/13 10,000.000 99.500 9,950.00 10,000.00 -50.00 125.00 4.50\\nCUSIP: 131ESC9D9\\nFixed Coupon; Unrated; At Maturity',\n",
       " 'Fixed Coupon; Unrated; At Maturity\\nTotal Corporate Bonds (11% of account holdings) $15,012.50 $20,000.00 -$4,987.50 $750.00\\nMunicipal Bonds\\nNEW YORK NY CITY INDL DEV AGY REV 3iti4 10,000.000 $107.442 $10,744.20 $10,000.008 $744.20 $500.00 5.000%\\nCUSIP: 64971PEN1\\nFixed Coupon; MBIA Insured; Moodys BAA1; S&P BBB; Int. Semi-Annually\\nTotal Municipal Bonds (8% of account holdings) $10,744.20 $10,000.00 $744.20 $500.00\\nOther Bonds',\n",
       " 'Other Bonds\\nTXU SR NT-P 11/15/14 5,000.00 $100.00 $5,000.00 $10,000.00 -$5,000.00 $227.50 5.55%\\nCUSIP: 873168AL2\\nFixed Coupon\\nTotal Other Bonds (4% of account holdings) $5,000.00 $10,000.00 -$5,000.00 $227.50\\nUS Treasury/Agency Securities\\nUNITED STATES TREAS BILLS 11/21/13 10,000.00 $99.00 $9,900.00 $10,000.00 -$100.00 - 0.00%\\nCUSIP: 912796BL2\\nFixed Coupon\\nTotal US Treasury/Agency Securities (7% of account holdings) $9,900.00 $10,000.00 -$100.00 =',\n",
       " 'Total Bonds (37% of account holdings) $50,656.70 $60,250.00 -$9,593.30 $1,652.50',\n",
       " '$582.57\\n\\n8 of 28\\nFidelity\\n\\nHoldings (continued)\\n\\n** SAMPLE STATEMENT ***\\n\\nFor informational purposes only\\n\\nINVESTMENT REPORT\\nJuly 1 — July 31, 2015\\n\\nAccount 111-111111\\nJohn W. Doe - Indi',\n",
       " 'Other\\nPrice Ending Market Value Total Unrealized Est.Annual Est.\\nDescription Quantity Per Unit Accrued interest (Al) Cost Basis Gain/Loss Income (EAI)\\nADI NET LEASE INC & GROWTH LP XIX UNIT 5.000 $291.000A $1,455.00 unknown, unknown, _- -\\nLTP PARTNERSHIP INT BASED ON MGMTS\\nUNCONFIRMED EST OF NET ASSETS\\nM VENTAS INC (VTR) 500.000 10.57 5,285.00 unknown? unknown, _- -\\nTotal Other (5% of account holdings) $6,740.00 - - -\\nTotal Holdings $108,051.18 $120,163.33 $41.54 $2,488.45\\n\\n9 of 28\\n** SAMPLE STATEMENT ***',\n",
       " '9 of 28\\n** SAMPLE STATEMENT ***\\n\\nFor informational purposes only\\n\\n(Fidelity\\n\\nHoldings (continued)\\n\\nAl',\n",
       " 'Investments such as direct participation program securities (e.g., partnerships, limited liability\\ncompanies, and real estate investment trusts which are not listed on any exchange), commodity\\npools, private equity, private debt and hedge funds are generally illiquid investments and their\\ncurrent values may be different from the purchase price. Unless otherwise indicated, the values\\nshown in this statement for such investments have been provided by the management, admin-',\n",
       " \"istrator or sponsor of each program or a third-party vendor without independent verification by\\nFidelity Brokerage Services (FBS) and represent their estimate of the value of the investor's\\nparticipation in the program, as of a date no greater than 18 months from the date of this state-\\nment. Therefore, the estimated values shown herein may not necessarily reflect actual market\\nvalues or be realized upon liquidation. If an estimated value is not provided, valuation informa-\\ntion is not available.\",\n",
       " 'Accrued Interest Presented for domestic fixed income securities and represents interest\\naccumulated since the last coupon date, but not yet paid by the issuer or received by NFS. Al is\\ncalculated for the following securities: fixed rate bonds and Certificates of Deposit (CDs). There\\nis no guarantee that Al will be paid by the issuer. Al for treasury and GNMA securities,\\nhowever, is backed by the full faith and credit of the United States Government. Al totals',\n",
       " 'represent accruals for only those securities with listed Al in the Holdings section of this\\nstatement. Please refer to the Help/Glossary section of Fidelity. com for additional information.\\nSee Cost Basis Information and Endnotes for important information about the adjusted cost\\nbasis information provided.',\n",
       " 'Cost basis information (or proceeds from short sales) has been provided by you and has\\n\\nnot been adjusted except as otherwise indicated. When positions are transferred between\\naccounts, in certain cases, cost basis information may be automatically transferred and deemed\\nto be customer-provided.\\n\\nIncludes exchange-traded funds (ETFs), exchange-traded notes (ETNs), and other exchange-\\ntraded vehicles\\n\\nINVESTMENT REPORT\\nJuly 1 — July 31, 2015\\n\\nAccount 111-111111\\nJohn W. Doe - Individual TOD',\n",
       " 'Account 111-111111\\nJohn W. Doe - Individual TOD\\n\\nEAI Estimated Annual Income (EAl) & Estimated Yield (EY) EAI is an estimate of annual income\\n\\n&\\nEY',\n",
       " 'for a specific security position over the next rolling 12 months. EY is calculated by dividing the\\ncurrent EAI for a security position by its statement closing date market value. EY reflects only\\nthe income generated by an investment, it does not reflect changes in its price, which may\\nfluctuate. For certain types of securities, EAl and EY could include the return of principal or\\ncapital gains which would render them overstated. EAI and EY are estimates provided for',\n",
       " \"informational purposes only and should not be relied on for making investment, trading, or tax\\ndecisions. There is no guarantee that your investments will actually generate the EAl or EY\\npresented. Actual income and yield might be lower or higher. EAl and EY should not be\\nconfused with a security's 30-day Yield or 7-day Yield, if provided, as such yield quotations\\nreflect the actual historical performance of a security. For additional information, including\",\n",
       " 'calculation details, refer to the \"Additional Information and Endnotes\" section at the end\\nof your statement.',\n",
       " 'The stated Interest Rate is the interest rate effective for Cash Balances in your FDIC-Insured\\nDeposit Sweep on the last day of the statement period.\\n\\nPosition held in margin account. All other positions held in cash account.',\n",
       " 'Customers are responsible for monitoring their total assets at the Program Bank to determine\\nthe extent of available FDIC insurance. Subject to the terms of the customer agreement, cus-\\ntomers are reminded that funds are swept to a Program Bank on the business day following\\nthe date that funds are credited to your account and until swept to a Program Bank, funds are\\ncovered by SIPC. For additional information, please see the FDIC-insured Deposit Sweep\\nDisclosures on Fidelity. com.\\n\\nThird party provided.',\n",
       " 'Third party provided.\\n\\n10 of 28\\n(Fidelity\\n\\n** SAMPLE STATEMENT ***\\n\\nFor informational purposes only\\n\\nINVESTMENT REPORT\\nJuly 1 - July 31, 2015',\n",
       " 'Activity Account 111-111111\\nJohn W. Doe - Individual TOD\\nSecurities Bought & Sold\\nSettlement Symbol/ Cost Basis Transaction\\nDate Security Name CUSIP Transaction Description Quantity Price of Close Cost Transaction Total\\n741 SPDR SER TR BARCLAYS CAP HIGH YIELDBD JNK You bought 100 $37.17900 -$7.95 -$3,725.85\\nETF Wash sale of 8/8/11: $2,805.50\\n741 SPDR SER TR BARCLAYS CAP HIGH YIELDBD JNK You bought 100 37.17900 -7.95 3,725.85,\\nETF Wash sale of 8/8/11: $7,780.04',\n",
       " 'ETF Wash sale of 8/8/11: $7,780.04\\n741 SABRA HEALTH CARE REIT INC COM USD0.01 SBRA You bought 200 11.04000 -7.95 2,215.95,\\n741 SPDR SER TR BARCLAYS CAP HIGH YIELDBD JNK You sold -200 36.88200 $6000* -7.95 7,368.45\\nETF LT loss: $8,781.90\\nLT disallowed loss: $8,781.90\\n741 SPDR SER TR BARCLAYS CAP HIGH YIELDBD JNK You sold -500 36.88100 15500* -7.95 18,432.55\\nETF LT loss: $5,210.22\\nLT disallowed loss: $5,210.22\\n741 SABRA HEALTH CARE REIT INC COM USD0.01_ SBRA You bought 50 11.03400 -7.95 -559.65',\n",
       " '741 SABRA HEALTH CARE REIT INC COM USD0.01  SBRA You bought 50 11.03000 -7.95 -559.45\\n741 SABRA HEALTH CARE REIT INC COM USD0.01 SBRA You bought 150 11.05000 -7.95 1,665.45,\\n712 SPDR SER TR BARCLAYS CAP HIGH YIELDBD JNK You bought 50 37.29900 -7.95 1,872.90\\nETF Wash sale of 8/8/11: $2,070.58\\n7/18 SPDR SER TR BARCLAYS CAP HIGH YIELDBD JNK You bought 50 38.27900 -7.95 1,921.90\\nETF\\n7/23 MGM RESORTS INTERNATIONAL You bought 5000 109.00000 -5,450.00\\n4.25000% 4/15/2015 SR CV NT Accrued Interest: -347.44',\n",
       " 'TRADE EXECUTED BY MLCO\\n7/30 FMPXX You bought 1000 1.00000 -7.95 1,007.95,\\nTotal Securities Bought -$95.4 -$22,712.90\\nTotal Securities Sold $25,801.00\\nNet Sect ies Bought & Sold $3,088.10',\n",
       " '11 of 28\\n(Fidelity\\n\\nActivity (continued)\\n\\nTrades Pending Settlement\\n\\n** SAMPLE STATEMENT ***\\n\\nFor informational purposes only\\n\\nINVESTMENT REPORT\\nJuly 1 — July 31, 2015\\n\\nAccount 111-111111\\n\\nJohn W. Doe - Individual TOD',\n",
       " 'Settlement ‘Symbol! Cost Basis\\nDate Security Name CUSIP Transaction Description Quantity Unit Price of Close Transaction Total\\n8/2 SPDR SER TR BARCLAYS CAP HIGH YIELDBD JNK You bought 100 $37.179 -$3,717.90\\nETF\\n8/2 SPDR SER TR BARCLAYS CAP HIGH YIELD BD SBRA You bought 100 37.179 -$3,717.90\\nETF\\n8/2 SABRA HEALTH CARE REIT INC COM USD0.01 SBRA You bought 200 11.040 2,208.00\\n8/2 SPDR SER TR BARCLAYS CAP HIGH YIELDBD JNK You sold -200 36.882 7,376.40\\nETF LT loss: $5,210.22\\nLT disallowed loss: $5,210.22',\n",
       " 'LT disallowed loss: $5,210.22\\nTotal Trades Pending Settlement $1,450.50\\nSecurities Transferred In\\nSettlement ‘Symbol! Transaction\\nDate Security Name CUSIP Transaction Description Quantity Price Amount\\n7/31 Z70-666580-1 Trans. from account 222-222222 $39,508.64\\n7/31 ENSTAR GROUP LIMITED COM STK USD 1.00 ESGR Trans. from account 222-222222 100.000 $102.960 10,296.00\\nZ70-666580-1\\nTotal Securities Transferred In $49,804.64\\nSecurities Transferred Out\\nSettlement ‘Symbol! Transaction',\n",
       " 'Settlement ‘Symbol! Transaction\\nDate Security Name CUSIP Transaction Description Quantity Price Amount\\n7/31 ENSTAR GROUP LIMITED COM STK USD 1.00 ESGR Trans. to account 222-222222 ~$5,000.00\\nTotal Securities Transferred Out -$5,000.00',\n",
       " '12 of 28\\n(Fidel\\n\\nly\\n\\nActivity (continued)\\n\\nDividends, Interest & Other Income\\n(Including dividend reinvestments)\\n\\n*** SAMPLE STATEMENT ***\\nFor informational purposes only\\n\\nINVESTMENT REPORT\\nJuly 1 — July 31, 2015\\n\\nAccount 111-111111\\nJohn W. Doe - Ini ual TOD\\n\\nSettlement ‘Symbol! Transaction\\n\\nDate Security Name CUSIP Transaction Description Quantity Price Amount\\n\\n7/01 DOUBLELINE TOTAL RETURN BOND FD CLI DBLTX Dividend received $9,746.03',\n",
       " '7/04 NEW YORK NY CITY INDL DEV AGY REV 64971PEN1 Muni exempt interest 18.18\\n\\n712 STAR GAS PARTNERS LP SBI SGU Return of capital $7,905.00\\n\\nTotal Dividends, Interest & Other Income $41,301.03\\n\\nMargin Activity\\n\\nInterest Average Interest Average\\n\\nPeriod Period Balance Rate Daily Balance Interest Paid Period Period Balance Rate Daily Balance Interest Paid\\n\\n7/1-7/31 999,047 2.000% $1,004,247 -$1,673.75 Total this period $1,637.75\\nTotal year-to-date -19,670.87\\n\\n13 of 28\\n(Fidelity\\n\\nActivity (continued)',\n",
       " '13 of 28\\n(Fidelity\\n\\nActivity (continued)\\n\\n*** SAMPLE STATEMENT ***\\nFor informational purposes only\\n\\nINVESTMENT REPORT\\nJuly 1 — July 31, 2015\\n\\nAccount 111-111111\\nJohn W. Doe - Individual TOD',\n",
       " 'Other Activity\\nSettlement ‘Symbol! Cost Basis Transaction\\nDate Sec Name CUSIP Transaction Description Quantity Price of Close Cost _ Transaction Total\\n7/30 REFCO INC COM RFX Merger -4000 unknown $594.10\\nESCROW PAYMENT AT $0.148525 PER SHARE\\nMER PAYOUT\\n#REORCM0050704800000\\n7/30 REFCO INC COM RFX Merger 4000 0.00\\nESCROW PAYMENT AT $0.148525 PER SHARE\\nMER FROM 758ESC982\\nREORUM0050704800002\\nTotal Other Activity $594.10\\nDeposits',\n",
       " 'Total Other Activity $594.10\\nDeposits\\nDate Reference Transaction Description Transaction Total Date Reference Transaction Description Transaction Total\\n71 Wire transfer from bank $5,000.00 7/18 Wire transfer from bank 300.00\\n7/2 Deposit received 15.00 719 Wire transfer from bank 250.00\\n73 Wire transfer from bank 400.00 7/25 Wire transfer from bank 500.00\\n712 Wire transfer from bank 1,000.00 7/26 Wire transfer from bank 500.00\\n7/16 Wire transfer from bank 1,500.00 Total Deposits & EFT In $9,465.00',\n",
       " 'Withdrawals\\nDate Reference Transaction Description Transaction Total Date Reference Transaction Description Transaction Total\\n7/2 Wire transfer to bank -$3,000.00 TAT Wire transfer to bank -$1,000.00\\n73 Wire transfer to bank -750.00 7/29 Electronic remit Debit American Express -210.00\\n7/8 Wire transfer to bank -25.00 7/30 Wire transfer to bank -500.00\\nTotal Withdrawals & EFT Out -$5,485.00',\n",
       " '14 of 28\\n(Fidelity\\n\\nActivity (continued)\\n\\n** SAMPLE STATEMENT ***\\n\\nFor informational purposes only INVESTMENT REPORT\\nJuly 1 — July 31, 2015\\n\\nAccount 111-111111\\nJohn W. Doe - Individual TOD',\n",
       " 'Debit Card Summary Debit Card Activity\\nBeginning Balance $0.00 VISA® PLATINUM CHECK CARD (ACCOUNT ...9999)\\nCash Advances -507.00 Visa® Platinum Rewards Ending Point Balance: 12\"\\nFees 0.00 Trans. Date Post Date Location Reference/ Description Transaction Total\\nTotal Purchases 1,173.71 8 8/4 ATMO0058 1224 JONES RD, HOUSTON, TX, 7425612ZF6JW2BKA -$304.00\\nOther Card Activity 86.58 8/11 8/15 POS6600 TARGET T2066 W, HOUSTON, TX, 24251312ZF6JW2JQK 528.12',\n",
       " 'Total Payments 1,594.13 8/11 8/15 STARBUCKS CORP00064139, SPRING, TX, 24161312ZF6JW2QJE 639.56\\nEnding Balance $0.00 VISA® Platinum Check Card (...9999) Subtotal -$1,471.68\\n* Please refer to the Platinum Card Rewards Program Terms & Conditions for additional information about your Rewards Points, including information\\non expiration. Rewards Points have no cash or dollar value. Ending point balance shown is the most current value available on the closing date of this',\n",
       " 'statement. Please call 800-323-5353 for the most up to date balance information as amount may have changed.\\nVISA® GOLD CHECK CARD (ACCOUNT ...8888)\\nTrans. Date Post Date Location Reference/ Description Transaction Total\\n8/3 8/6 ATMO0213 1224 TOWN CEN, HOUSTON, TX, 9842312ZF6JW2ZAD -$203.00\\n8/6 8/10 BEST DONUTS, SPRING, TX, 5465542ASKD620ASD -6.03\\n8/11 8/15 MARSHALLS #0506, THE WOODLANDS, TX, 16510SKJF351321DDS 86.58\\nVISA® Gold Check Card (...8888) Subtotal -$122.45,\\nTotal Debit Card Activity $1,594.13',\n",
       " 'Total Debit Card Activity $1,594.13\\nBill Payments\\nPost Payee Post Payee\\nDate Payee Account Amount YTD Payments Date Payee Account Amount YTD Payments\\n7/10 American Express* AAREEIESESO GS ~$1,231.12 ~$2,455.86 7/18 ~~ Citi Visa PTT TT -4,609.15, -8,897.60\\n7/15 FlACard Service AAAAASB BBB, -504.78 -3,605.16 Total Bill Payments -$6,345.05 ~$14,958.62\\n* recurring payment',\n",
       " '15 of 28\\n(Fidelity\\n\\nActivity (continued)\\n\\n*** SAMPLE STATEMENT ***\\nFor informational purposes only\\n\\nINVESTMENT REPORT\\nJuly 1 — July 31, 2015\\n\\nAccount 111-111111\\nJohn W. Doe - Individual TOD\\n\\nChecking Activity\\n\\nCheckNum. Post Date Code Description Transaction Total CheckNum. Post Date Code Transaction Total\\n\\n1076 7/30 13 Check paid -$430.72 1549 7/30 01 17,165.00\\n\\n1542 * 7/05 04 Check paid 1,984.21 Total Checking Activity $24,432.10\\n\\n1548 * 7123 01 Check paid 846.50 * Check number has been skipped.',\n",
       " 'Fees and Charges\\n\\nDate Description Amount Date Description Amount\\n\\n71 Advisor Fee $44.37 7/7 Baidu.com Inc Spon -2.25\\n\\n7/14 ATM fee rebate 2.25 Total Fees and Charges $44.37\\n\\nTaxes Withheld\\n\\nDate Security Description Amount Date Security Description Amount\\n\\n741 TRANSOCEAN LIMITED COM CHF157 Foreign tax paid ~$440.12 7/15 | SPDRSERTR BARCLAYS CAP HIGH YIELD BD ETF Federal tax paid 399.11',\n",
       " '7/15 SPDRSER TR BARCLAYS CAP HIGH YIELD BD ETF State tax paid -123.78 Total Federal Taxes Withheld ~$399.11\\nTotal State Taxes Withheld -$123.78\\nTotal Foreign Taxes Withheld ~$440.12\\nTotal Taxes Withheld -$963.01\\n\\n16 of 28\\n** SAMPLE STATEMENT ***\\n\\nFor informational purposes only\\n\\n(Fidelity\\n\\nActivity\\n\\nDaily Additions and Subtractions\\n\\nINVESTMENT REPORT\\nJuly 1 - July 31, 2015\\n\\nAccount 111-111111\\nJohn W. Doe - Individual TOD',\n",
       " 'Account 111-111111\\nJohn W. Doe - Individual TOD\\n\\nFidelity NY Muni Money Market @ $1 per share (the following is provided to you in accordance with industry regulations)\\n\\nNet Activity Daily Balance\\n\\nDate Total Additions _ Total Subtractions Net Activity Daily Balance Date Total Additions _ Total Subtractions\\n7101 $7,200,370.31 $7,200,370.31 $12,250,595.08 7/29 $999.99 -$999.99 -$999.99 $999.99\\n7103 999,999.99 -999,999.99 13,969.00 12,256,594.81 7/31 999.99 999.99 999.99',\n",
       " 'f FIFO (First In, First Out)\\nCost basis and gain/loss information is provided as a service to our customers and is based on\\nstandards for filing US Federal Tax Returns as determined by Fidelity. This information is not\\nintended to address tax law or reporting requirements applicable in your country of tax residence.\\n\\nB See Cost Basis Information and Endnotes for important information about the adjusted cost basis\\ninformation provided.',\n",
       " 'n Exercise for a stock option. Stock Option Exercise. Please see your exercise transaction confirma-\\ntion statement and specific plan section of this statement for your total cost, tax withholding and\\n\\nany applicable fees.\\n\\n17 of 28\\n*“\" SAMPLE STATEMENT ***\\nFor informational purposes only INVESTMENT REPORT\\n\\n69 Fidelil f July 1 - July 31, 2015\\n\\nEstimated Cash Flow Account 111-111111\\n(Rolling as of July 31, 2015) John W. Doe - Individual TOD',\n",
       " 'Total Est.\\nMonth Bond & CD Income Bond & CD Principal Stock Income Mutual Fund Income Cash Flow\\nAugust 2015 — — $76 $44 $120\\nSeptember $413 — 193 44 650\\nOctober _— — — 44 44\\nNovember — — 76 44 120\\nDecember 413 — 193 44 650\\nJanuary 2016 — = = 44 44\\nFebruary — — 76 44 120\\nMarch 413 - 193 44 650\\nApril - — — 44 44\\nMay — — 76 44 120\\nJune 413 — 193 44 650\\nJuly — — — 44 44\\nTotal $1,653 = $1,075 $532 $3,259',\n",
       " 'The table above presents the estimated monthly interest and dividend income and return of principal that your current holdings may generate over the next rolling 12 months.\\nThe cash flows displayed are estimates provided for informational purposes only and there is no guarantee that you will actually receive any of the amounts displayed. These',\n",
       " \"estimates should not be relied upon for making investment, trading or tax decisions. The estimates for fixed rate domestic bond and CD income are calculated using the\\nsecurity's coupon rate. The estimates for domestic common stock and mutual fund income are calculated using an indicated annual dividend (IAD). The IAD is an estimate of a\",\n",
       " \"security's dividend payments for the next 12 months calculated based on prior and/or declared dividends for that security. [ADs are sourced from third party vendors believed to\\nbe reliable, but no assurance can be made as to accuracy. There are circumstances in which these estimates will not be presented for a specific security you hold.\",\n",
       " \"Please refer to the Help/Glossary section of Fidelity.com for additional information on these calculations.\\n\\nBond & CD Income includes interest payments for fixed rate bonds and Certificates of Deposit (CDs).\\n\\nBond & CD Principal includes maturing principal payments for CDs and the following bonds: fixed rate, floating rate, variable rate, discount,and zero coupon.\\n\\nStock Income includes estimated dividend payments for common stock, ADR's, and REITs.\",\n",
       " \"Mutual Fund Income includes estimated dividend payments for Fidelity and non-Fidelity mutual funds.\\n\\nThe table above does not include cash flow from the following securities: preferred stocks, international stocks, exchange trade products (ETF's & ETN's), UITs, variable\\nrate bonds, and international bonds, but may be included in future enhancements.\\n\\n18 of 28\\n(Fidelity\\n\\n*** SAMPLE STATEMENT ***\\nFor informational purposes only\",\n",
       " 'Account Value: $142,413.12\\nChange in Account Value Vv $5,180.68\\nThis Period Year-to-Date',\n",
       " 'Beginning Account Value $147,593.80 $131,068.99\\nAdditions — 12,345.97\\nContributions = 5,000.00\\nSecurities Transferred In = 5,509.48\\nOther Additions = 1,836.49\\nSubtractions _— -4,614.82\\nDistributions = -4,065.21\\nSecurities Transferred Out = 692.22\\nCards, Checking & Bill Payments — -461.48\\nTrans. Costs, Fees & Charges — 230.74\\nTaxes Withheld = -461.48\\nOther Subtractions = -461.48\\nChange in Investment Value -5,180.68 3,612.98\\nEnding Account Value $142,413.12 $142,413.12\\n\\nAccount Holdings',\n",
       " 'Account Holdings\\n\\n1% Core Account\\n4% Other\\n\\n25% Bonds\\n\\nINVESTMENT REPORT\\nJuly 1— July 31, 2015\\n\\nAccount 222-222222\\n\\n70% Stocks\\n\\nJohn W. Doe - Traditional IRA\\n\\nPercent of\\nHolding Type Market Value Account”\\nStocks $99,215 70%\\nBonds 35,475 25\\nOther 5,651 4\\nCore Account 2,070 1\\nTotal $142,413 100%\\n*Percent of Account based on positive values only.\\nTop Holdings\\n\\nPercent of',\n",
       " 'Percent of\\n\\nDescription Market Value Account\\nJohnson and Johnsn (JNJ) $47,113.80 33%\\nApple Inc (AAPL) 15,759.30 \"1\\nDelphi Corp Jr Sb Nt 15,375.00 11\\nSlm Corp Spi Lkd Nt (Osm) 13,859.10 10\\nGen Motors Corp Bond 10,100.00 7\\nTotal $102,207.20 72%\\n\\n19 of 28\\n(Fidelity\\n\\nAccount Summary (continued)\\n\\nCore Account Cash Flow\\nCore Account: Fidelity Cash Reserves\\n\\n*** SAMPLE STATEMENT ***\\nFor informational purposes only',\n",
       " 'This Period Year-to-Date\\nBeginning Core Account Balance $1,570.57 $794.51\\nINVESTMENT ACTIVITY\\nSecurities Bought — 15,000.00\\nSecurities Sold = 11,278.12\\nDividends, Interest and Other Income* 500.31 7,020.49\\nTransaction Costs = -230.74\\nOther Activity — 500.00\\nTotal Investment Activity $500.31 $3,567.87\\nCASH MANAGEMENT ACTIVITY\\nContributions = 5,000.00\\nDistributions = -4,065.21\\nTaxes Withheld = -1,016.30\\nChecking Activity — -1,258.12\\nDebit Card Activity — 125.12\\nDeferred Debit Card Activity — -275.89',\n",
       " 'Deferred Debit Card Activity — -275.89\\nBill Payments — -400.00\\nFees & Charges — 112.13\\nTotal Cash Management Activity _ $2,252.77\\nEnding Core Account Balance $2,070.88 $2,070.88',\n",
       " '* Includes dividend reinvestments.\\n\\nIncome Summary\\n\\nINVESTMENT REPORT\\nJuly 1— July 31, 2015\\n\\nAccount 222-222222\\n\\nJohn W. Doe - Traditional IRA\\n\\nThis Period\\n\\nYear-to-Date\\n\\nTaxable\\nDividends\\nInterest\\nShort-term Capital Gains\\nLong-term Capital Gains\\nTax-exempt\\nDividends\\nInterest\\nTax-deferred\\nTax-free\\nReturn of Capital\\nLiquidations\\nRoyalty Trust Payments\\n\\n$500.31\\n\\n$7,020.49\\n\\nTotal\\n\\n$500.31\\n\\nMinimum Required Distribution (MRD) Estimate\\n\\nTotal 2015 MRD for this account:\\n\\nThis Period\\n\\n$7,020.49\\n\\n$6,097.82',\n",
       " 'This Period\\n\\n$7,020.49\\n\\n$6,097.82\\n\\nYear-to-Date\\n\\nMRD Distributions\\n\\nThis estimate was calculated using the following information:\\n\\n2014 Year-end Balance: $123,123.00\\nLife Expectancy Factor: 23.8\\nIRS Table: Uniform Lifetime Table\\n\\n$4,065.21\\n\\nFor more information on MRD, please see “Additional Information About Your Investment Report” at\\n\\nthe end of this statement or visit Fidelity.com/RDC.\\n\\n20 of 28\\n*“* SAMPLE STATEMENT ***\\nFor informational purposes only INVESTMENT REPORT\\n\\n(Fidelity July 1 — July 31, 2015',\n",
       " 'Holdings Account 222-222222\\nJohn W. Doe - Traditional IRA\\nCore Account\\nTotal Unrealized Est. Annual\\nDescription Quantity Price Ending Value Cost Basis Gain/Loss _Income (EAl) (EY)\\nFIDELITY CASH RESERVES (FDRXX) 2,070.880 $1.000 $2,070.88 N/A _ _ 0.010%\\n— 7-day yield: 0.010%\\nTotal Core Account (1% of account holdings) $2,070.88\\nStocks\\nPrice Ending Total Unrealized Est. Annual\\nDescription Quantity Per Unit Market Value Cost Basis Gain/Loss _Income (EAl) (EY)\\nCOMMON STOCK',\n",
       " 'COMMON STOCK\\nAPPLE INC (AAPL) 30.00 $525.31 $15,759.30 $8,247.50! $7,511.80 $365.62 2.32%\\nEXXON MOBILE (XOM) 50.00 87.96 4,398.00 4,149.75, 248.25 125.78 2.86\\nFACEBOOK (FB) 60.00 25.16 1,509.60 1,848.95! -339.35\\nGENERAL MOTORS CO USD0.01 (GM) 209.00 35.56 7,432.04 unknown unknown,\\nISIN: US37045V1008\\nSEDOL: B3SMT78\\nSLM CORP CPI LKD NT FLTG RATE 0.00% 590.00 23.49 13,859.10 9,090.70 4,768.40\\n03/15/2017 (OSM)\\nSTANDARD PACIFIC CORP (SPF) 5,100.00 9.238 47,113.80 61,354.44 863.47 1,352.17 2.87',\n",
       " \"WESTMORELAND COAL CO DEP SHS EACH 300.00 30.48 9,144.00 5,088.40' 4,055.60\\nREPSTG 1/4 OF SHS SER ACV ESCH (WLBPZ)\\nTotal Stocks (70% of account holdings) $99,215.84 $89,779.74 $17,108.17 $1,843.57\",\n",
       " '21 of 28\\n(Fidelity\\n\\nHoldings (continued)\\n\\n** SAMPLE STATEMENT ***\\n\\nFor informational purposes only\\n\\nINVESTMENT REPORT\\n\\nJuly 1— July 31, 2015\\n\\nAccount 222-222222\\nJohn W. Doe - Traditional IRA\\n\\nBonds',\n",
       " 'Price _ Ending Market Value Total Unrealized Est. Annual Coupon\\nDescription Maturity Quantity Per Unit Accrued interest (Al) Cost Basis Gain/Loss Income (EAI) Rate\\nSABRATEK CORP NT CV 4/15/15 10000.00 100.00 $10,000.00 $10,000.00 _ 600.00 6.00%\\nCUSIP: 78571UAA6\\nSemi-Annual Interest\\nDELPHI CORP JR SB NT 10/15/33. 15000.00 102.50 15,375.00 15,025.00 350.00 1,237.50 8.250\\nCUSIP: 247126AF2\\nFixed Coupon; Quarterly Interest',\n",
       " 'CUSIP: 247126AF2\\nFixed Coupon; Quarterly Interest\\nESCROW GEN MOTORS CORP BOND 3/15/36 10000.00 101.00 10,100.00 9,900.00 999,999.99 999,999.99 7.750\\nCUSIP: 370ESCAT2\\nFixed Coupon; Semi-Annual Interest;\\nTotal Bonds (25% of account holdings) $35,475.00 $34,925.00 $550.00 $2,612.50\\nOther',\n",
       " 'Price Ending Total Unrealized Est.Annual Est.\\nDescription Quantity Per Unit Market Value Cost Basis Gain/Loss Income (EAI) (EY)\\nGENERAL MTRS CO WTS EXP 07/10/2016 190.000 $15.290 $2,905.10 unknown unknown, _-\\n(GMWSA)\\nGENERAL MTRS CO WTS EXP 07/10/2019 190.000 10.570 2,008.30 unknown unknown, _-\\n(GMWSB)\\nSOUTHWEST ROYALTIES INSTITUTIONAL 6.000 123.000A 738.00 unknown, unknown, _-\\nINCOME FUND LP IX-B\\nBased on an independent appraisal\\nTotal Other (4% of account holdings) $5,651.40 - - -',\n",
       " 'Total Holdings $142,413.12 $109,600.63 $17,658.17 ‘$4,456.07',\n",
       " 't Third party provided.\\n\\nAll positions held in cash account unless indicated otherwise.\\n\\n22 of 28\\n*** SAMPLE STATEMENT ***\\nFor informational purposes only\\n\\n(Fidel\\n\\nly\\n\\nActivity\\n\\nDividends, Interest & Other Income\\n(Including dividend reinvestments)\\n\\nINVESTMENT REPORT\\nJuly 1— July 31, 2015\\n\\nAccount 222-222222\\nJohn W. Doe - Traditional IRA\\n\\nSettlement ‘Symbol! Transaction\\n\\nDate Security Name CUSIP Transaction Description Quantity Price Cost Transaction Total\\n\\n7/08 GMAC LLC NT 7.25% GKM Interest $37.61',\n",
       " '7/08 GMAC LLC NT 7.25% GKM Interest $37.61\\n\\n7/09 SPDR SER TR BARCLAYS CAP Dividend received 397.99\\nHIGH YIELD BD ETF\\n\\n715 SLM CORP OSM Interest 64.99\\nCPI LKD NT FLTG RATE 0.00% 03/15/2017\\n\\n7/31 FIDELITY CASH RESERVES FDRXX Dividend received 0.02\\n\\nTotal Dividends, Interest & Other Income $500.31\\n\\nDaily Additions and Subtractions\\n\\nFidelity NY Muni Money Market @ $1 per share (the following is provided to you in accordance with industry regulations)',\n",
       " 'Date Total Additions Total Subtractions Net Activity Daily Balance Date Total Additions Total Subtractions Net Activity Daily Balance\\n\\n7/08 $37.61 _ $37.61 $1,608.18 715 $64.69 _ $64.69 $2,070.86\\n\\n7/09 397.99 - 397.99 2,006.17 7/31 0.02 - 0.02 2,070.88\\n\\n23 of 28\\nFidelity\\n\\nEstimated Cash Flow\\n(Rolling as of July 31, 2015)\\n\\n*“\" SAMPLE STATEMENT ***\\nFor informational purposes only INVESTMENT REPORT\\n\\nJuly 1— July 31, 2015\\n\\nAccount 222-222222\\nJohn W. Doe - Traditional IRA',\n",
       " 'Account 222-222222\\nJohn W. Doe - Traditional IRA\\n\\nTotal Est.\\nMonth Bond & CD Income Bond & CD Principal Stock Income Mutual Fund Income Cash Flow\\nAugust 2015 _ _— $767 _ $767\\nSeptember $326 _ — _ 326\\nOctober _ _ _ _ _\\nNovember 653 — 767 — 1,420\\nDecember 326 — = — 326\\nJanuary 2016 _ _ _— _ _\\nFebruary — = 767 — 767\\nMarch 326 — _— — 326\\nApril _ _ _ _ _\\nMay 653 _— 767 — 1,420\\nJune 326 _— — — 326\\nJuly — — — — _—\\nTotal $2,612 = $3,069 _ $5,682',\n",
       " 'The table above presents the estimated monthly interest and dividend income and return of principal that your current holdings may generate over the next rolling 12 months.\\nThe cash flows displayed are estimates provided for informational purposes only and there is no guarantee that you will actually receive any of the amounts displayed. These',\n",
       " \"estimates should not be relied upon for making investment, trading or tax decisions. The estimates for fixed rate domestic bond and CD income are calculated using the\\nsecurity's coupon rate. The estimates for domestic common stock and mutual fund income are calculated using an indicated annual dividend (IAD). The IAD is an estimate of a\",\n",
       " \"security's dividend payments for the next 12 months calculated based on prior and/or declared dividends for that security. [ADs are sourced from third party vendors believed to\\nbe reliable, but no assurance can be made as to accuracy. There are circumstances in which these estimates will not be presented for a specific security you hold.\",\n",
       " \"Please refer to the Help/Glossary section of Fidelity.com for additional information on these calculations.\\n\\nBond & CD Income includes interest payments for fixed rate bonds and Certificates of Deposit (CDs).\\nBond & CD Principal includes maturing principal payments for CDs and the following bonds: fixed rate, floating rate, variable rate, discount,and zero coupon.\\n\\nStock Income includes estimated dividend payments for common stock, ADR's, and REITs.\",\n",
       " \"Mutual Fund Income includes estimated dividend payments for Fidelity and non-Fidelity mutual funds.\\n\\nThe table above does not include cash flow from the following securities: preferred stocks, international stocks, exchange trade products (ETF's & ETN's), UITs, variable\\nrate bonds, and international bonds, but may be included in future enhancements.\\n\\n24 of 28\\n(Fidelity\\n\\n*** SAMPLE STATEMENT ***\\nFor informational purposes only\\n\\nINVESTMENT REPORT\\nJuly 1— July 31, 2015\",\n",
       " 'Account Value: $28,457.90 Account 333-333333\\nJohn W. Doe - Education Account\\nChange in Account Value A $522.46 College Investment Details\\nYear-to-Date\\nThis Period Year-to-Date 2015 Plan Contribution Cap: $350,000.00\\nBeginning Account Value $27,935.44 $24,662.91 Total Contributions Over Life of Plan: 23,662.88\\nContributions — 1,962.88 2015 Remaining to Contribute: $324,003.79\\nDistributions = —\\nChange in Investment Value 522.46 1,832.11\\nEnding Account Value $28,457.90 $28,457.90\\nContribution Elections',\n",
       " 'Contribution Elections\\nPercent of\\nDescription Contributions\\nNH PORTFOLIO 2015 (FIDELITY FUNDS) 75%\\nNH MODERATE GROWTH PORT (FIDELITY FDS) 25%\\nHoldings\\nPercent of\\nDescription Total Value Quantity Unit Price Ending Value\\nNH Portfolio 2015 (Fidelity Funds) 50% 1,200.291 $17.680 $21,221.14\\nNH Moderate Growth Port (Fidelity Funds) 25% 463.301 15.620 7,236.76\\nTotal Value 28,457.90',\n",
       " '25 of 28\\n*“** SAMPLE STATEMENT ***\\n\\n€> Fideli\\n\\nAdditional Information and Endnotes\\n\\nBecause you may own one or more products or account positions in your\\nFidelity account that are eligible for FDIC insurance coverage, we want to\\nremind you about current FDIC coverage limits and why you should monitor\\nyour balances.',\n",
       " 'Generally, deposits at a bank held in nonretirement and qualified retirement\\naccounts such as traditional or Roth IRAs are eligible for up to $250,000\\ncoverage per account owner, per depository institution. Certain holdings at\\nFidelity are eligible for \"passthrough\" FDIC insurance coverage subject to\\nthese same limits. Eligible positions include: 1) Certificates of deposit (CDs) -\\nBrokered CDs that are issued by an FDIC insured institution, 2) Core',\n",
       " 'balances in the Fidelity(R) Cash Management Account, eligible Fidelity IRAs\\nor Fidelity Health Savings Accounts(1), and 3) Any 529 Bank Deposit\\nPortfolio investments.',\n",
       " 'You are responsible for monitoring your FDIC coverage. Generally, all the\\nassets you hold at a depository institution are counted toward the FDIC\\ncoverage limit. Therefore, when considering whether your holdings will be\\nFDIC insured, you must take into consideration both the combined balance of\\nall bank deposits (including bank CDs) made directly through a particular\\ninstitution as well as those deposits coming about indirectly through Fidelity',\n",
       " 'or another brokerage firm. For more information about FDIC insurance\\ncoverage, please visit the FDIC Web site at www.FDIC.gov.',\n",
       " '* Cash Balances in an account with the FDIC-Insured Deposit Sweep\\nProgram are swept to an FDIC-insured account at a Program Bank. Funds\\nare swept to the Program Bank on the business day following the date that\\nfunds are credited to your account and, until swept to the Program Bank,\\nfunds are covered by SIPC. Once at the Program Bank, the deposit is not\\ncovered by SIPC; however, the deposit is eligible for FDIC insurance\\ncoverage subject to the applicable coverage limits. All assets of the account',\n",
       " 'holder at the Program Bank will generally be counted toward the aggregate\\nlimit. For additional information, please see the FDIC-Insured Deposit Sweep\\nProgram Disclosure document that can be found at\\nhttp:personal.fidelity.comaccountspdfRollover_Sep_Supplemental.pdf',\n",
       " 'For informational purposes only\\n\\nINVESTMENT REPORT\\nJuly 1 - July 31, 2015\\n\\nCost basis and gain/loss information is provided as a service to our customer, and\\nis based on standards for filing US Federal Tax Returns as determined by Fidelity.\\nThis information is not intended to address tax law or reporting requirements\\napplicable in your country of tax residence.',\n",
       " 'Amortization, accretion and similar adjustments to cost basis are provided for\\nmany fixed income securities (and some bond-like equities), however they are not\\nprovided for certain fixed income securities, such as short-term instruments, Unit\\nInvestment Trusts, foreign fixed income securities, or those that are subject to\\nearly prepayment of principal (pay downs).',\n",
       " 'B_ Adjusted cost basis information is shown where this indicator is displayed.\\nAdjusted cost basis reflects any cumulative original issue discount, premium,\\nor acquisition premium (including any year-to-date amount). It assumes such\\namounts were amortized or accrued for tax purposes from the acquisition\\ndate through the disposition date. Premium amortization was calculated using\\nthe yield-to-maturity method. Acquisition premium was calculated using the',\n",
       " 'ratable accrual method. Any market discount accretion for this position was\\ncalculated using the straight-line method and, if applicable, recognized upon\\ndisposition. Gain/loss displayed for this transaction is calculated using the\\ncost basis adjustments, as described above. The adjusted cost basis used\\nhere may not reflect all adjustments necessary for tax purposes (such as\\nwash sale adjustments) and may not apply if you are using an alternative',\n",
       " 'amortization calculation method. Refer to IRS Publication 550, Investment\\nIncome and Expenses, for additional information.',\n",
       " 'If total cost basis information is provided for multiple tax lots, that total cost basis\\ninformation (and any associated gain/loss displayed) may have been calculated\\nusing a combination of adjusted cost basis information (as described above) and\\nnon-adjusted cost basis information. Total cost basis information (and any\\nassociated gain/loss displayed) is calculated using adjusted cost basis for lots for\\nwhich adjusted cost basis is provided and non-adjusted cost basis for lots for',\n",
       " 'which adjusted cost basis is not provided or not applicable.',\n",
       " '26 of 28\\n*“** SAMPLE STATEMENT ***\\n\\nFor informational purposes only INVESTMENT REPORT\\n\\nJuly 1 - July 31, 2015\\n\\n Fideli\\n\\nAdditional Information and Endnotes (continues)\\n\\nAbout Your MRD Estimate:',\n",
       " 'Each year your annual MRD estimate is calculated on or after January 1 using\\nyour prior year-end account balance divided by the applicable life expectancy\\nfactor. The life expectancy factor used is based on both your date of birth and the\\nbeneficiary information we have on file as of December 31st of the prior year.\\nPlease contact Fidelity if there is a change in your beneficiary information as this\\ncalculation will not be updated until the calendar year following the year in which',\n",
       " 'you change your beneficiary designation.',\n",
       " 'Year-to-Date distributions include any distributions taken after January ‘1st of the\\ncurrent year through midnight of the statement end date.\\n\\nIt is your responsibility to satisfy IRS minimum distribution requirements.\\nLearn more about MRD s at www.Fidelity.com/RDC or call a Fidelity\\nrepresentative at the number listed on the front of your statement. If you\\nneed specific tax advice be sure to consult with your tax adviser.',\n",
       " \"EAI for fixed rate domestic bonds and CDs is calculated using the coupon rate.\\nFor all other securities, EAI is calculated using an indicated annual dividend (IAD).\\nThe IAD is an estimate of a security's dividend payments for the next 12 months\\ncalculated based on prior and/or declared dividends for that security. ADs are\\nsourced from third party vendors believed to be reliable, but no assurance can be\\nmade as to accuracy. This third party data may not be promptly updated to reflect\",\n",
       " 'various corporate actions (for example, when an issuer has missed a scheduled\\ndividend payment, announced changes to a payment schedule, or declared a\\n‘stock split) and, as a result, the EAl and EY may be over or understated. Interest\\nand dividend rates are subject to change at any time, and may be affected by\\ncurrent and future economic, political and business conditions. Please refer to\\nthe Help/Glossary on Fidelity.com for additional information regarding these\\ncalculations.',\n",
       " 'EAI and EY are not provided for: preferred stocks, exchange traded products\\n(ETFs & ETNs), UITs, variable rate bonds, and international stocks & bonds, but\\nmay be included in the future. EAI is not displayed for amounts less than $10.\\n\\nFor more information about your statement, please refer to our Frequently Asked\\nQuestions document at Fidelity.com/statements .\\n\\n27 of 28\\n*“** SAMPLE STATEMENT ***\\n\\nInformation About Your Fidelity Statement',\n",
       " 'Information About Your Fidelity Statement\\n\\nTDD Service for the Hearing-Impaired Call 800-544-0118, 9 am - 9 pm ET, 7 days a week.\\n\\nLost or Stolen Cards For 24-Hour worldwide customer service, call 800-529-2164 for American Express or\\n800-323-5353 for VISA® Gold Check Card',\n",
       " 'Additional Investments with Fidelity Make checks payable to Fidelity Investments. Include your account\\nnumber on the check. For retirement and health savings accounts (HSA), designate in the memo field whether\\nyour contribution is for the current or prior year. Mail checks or other inquiries to: Fidelity Investments, P.O. Box\\n770001, Cincinnati, OH 45277-0003.',\n",
       " 'Income Summary Shows income by tax status for the statement and year-to-date periods. Except for interest\\nincome eared on, or distributed by, tax-exempt securities, Fidelity reports dividends and capital gains held in\\ntaxable accounts as taxable income. A portion of income reported as tax-exempt income may be subject to\\nalternative minimum taxes and/or state and local taxes. In Traditional IRAs, Rollover IRAs, SEP-IRAs, SIMPLE',\n",
       " 'IRAs and Keoghs, earnings are reported as tax-deferred income. In Roth IRAs and HSAs, earnings are reported\\nas tax-exemptincome as they may be federally tax-exemptif certain conditions are met.',\n",
       " 'Cost Basis, Gain/Loss, and Holding Period Information NFS is required to report certain cost basis and\\nholding period information to the IRS on Form 1099-B. Unless otherwise specified, NFS applies the average\\ncost method for open-end mutual funds and the first-in, first-out (FIFO) method for all other securities. Cost\\nbasis is adjusted for wash sales on securities with the same CUSIP held in the same account (unless your',\n",
       " 'account receives mark-to-market reporting). Your statement may not reflect all adjustments required for tax\\npurposes. Customers should consult their tax advisors for further information.',\n",
       " 'Cost Fidelity provides purchase cost information for securities held in retirement and HSA accounts. Such\\ninformation may be adjusted for certain transactions and does not reflect dividends or capital gains\\nreinvestments. Fidelity reports transaction profit or loss information when securities are sold within a retirement\\nor HSA account. Transaction profit or loss is calculated by subtracting purchase cost from sales proceeds\\n\\nFor informational purposes only',\n",
       " 'For informational purposes only\\n\\nusing the FIFO method if shares were purchased at different times or prices. Statement Mailing We deliver\\nstatements at least four times during the calendar year for any account with a balance.',\n",
       " 'Statement Discrepancies Please review your statement and report any inaccuracies or discrepancies.\\nInquiries, concerns or questions regarding your brokerage account or the activity therein should be\\ndirected to FBS by calling 800-544-6666, and NFS, who carries your brokerage accounts, by calling\\n866-408-1138. Any oral communications regarding inaccuracies or discrepancies should be reconfirmed in\\nwriting to protect your rights, including those under the Securities Investor Protection Act (SIPA).',\n",
       " 'Material Changes Please advise us of material changes in your investment objectives or financial situation\\nrelated to your brokerage account(s)..',\n",
       " 'Mutual Funds and Performance An investment in a money market fund is not insured or guaranteed by\\nthe Federal Deposit Insurance Corporation (FDIC) or any other government agency. Although the fund\\nseeks to preserve the value of your investment at $1.00 per share, it is possible to lose money by\\ninvesting in the fund. Before investing, consider the funds’ investment objectives, risks, charges and\\nexpenses. Contact Fidelity for a prospectus containing this information. Read it carefully. Performance',\n",
       " 'data shown represents past performance and is no guarantee of future results. Investment return and\\nprincipal value will fluctuate, so you may have a gain or loss when shares are sold. Current\\nperformance may be higher or lower than that quoted. Visit Fidelity.com/performance for most recent\\nmonth-end performance.',\n",
       " 'Sales Loads & Fees Each fund reserves the right to terminate or modify its exchange privilege in the future. In\\nconnection with access to, purchase of, and/or maintenance of positions in mutual fund and other investment\\nproducts (\"funds\") or platforms, some funds, or their investment affiliates, pay FBS or NFS sales loads and\\n412b-1 fees described \\'in the prospectus as well as program participation and maintenance fees. Additional',\n",
       " 'information about the source(s) and amount(s) of compensation as well as other remuneration received by FBS\\n‘or NFS will be furnished to you upon written request. At the time you purchase shares of funds those shares will\\nbe assigned either a load, transaction fee (TF) or no transaction fee (NTF) status. When you subsequently sell\\nthose shares, any fees applicable to your transaction will be assessed based on the status assigned to the\\nshares at the time of purchase.',\n",
       " 'Additional Information About Your Brokerage Account, If Applicable',\n",
       " 'Customer Free Credit Balance You are entitled to your free credit balance in your brokerage account, subject\\nto open commitments in your cash accounts. Free credit balances are not segregated and may be used by NFS\\nin accordance with federal securities law. There is no free credit balance in a retirement account or HSA.\\nAssets Separate from Your Brokerage Account Only securities in the margin portion of your brokerage',\n",
       " 'account contribute to margin and maintenance requirements. Other Assets, which may be reported on your\\nstatement, including insurance products that are distributed by FBS and Fidelity Insurance Agency, Inc. and\\nmutual fund only accounts held directly with the fund (Fidelity Mutual Fund Accounts) are not carried by NFS,\\nnot covered by the Securities Investor Protection Corporation (SIPC) and do not count toward your margin and',\n",
       " 'maintenance requirements. Assets held in brokerage accounts managed by Strategic Advisers, Inc. (SA) are\\ncarried by NFS and covered by SIPC but do not contribute to your margin and maintenance requirements.',\n",
       " \"Short Account Balances Securities sold short are held in a segregated short account. These securities are\\nmarked-to-market for margin purposes, and any increase or decrease from the previous week's value is\\ntransferred weekly to your margin account. Fidelity represents your short account balance as of the last weekly\\nmark-to-market, not as of the statement end date.\",\n",
       " 'Information About Your Option Transactions Each transaction confirmation previously delivered to you\\ncontains full information about commissions and other charges, and such information is available promptly\\nupon request. Assignments of American and European-style options are allocated among customer short\\npositions pursuant to a random allocation procedure, a description is available upon request. Short positions in',\n",
       " 'American-style options are liable for assignment anytime. The writer of a European-style option is subject to\\nexercise assignment only during the exercise period. For more information, please call Fidelity at\\n800-544-6666.',\n",
       " 'Equity Dividend Reinvestment Shares credited to your account from resulted from transactions by FBS\\nacting as agent for your account, or the Depository Trust Company (DTC).',\n",
       " 'Price Information/Total Market Value The Total Market Value has been calculated out to 9 decimal places;\\nhowever, the individual unit price is displayed in 5 decimal places. The Total Market Value represents prices\\noblained from various sources, may be impacted by the frequency with which such prices are reported and\\nsuch prices are not guaranteed. Prices received from pricing vendors are generally based on current market,',\n",
       " 'quotes, but when such quotes are not available the pricing vendors use a variety of techniques to estimate\\nvalue. These estimates, particularly for fixed income securities, may be based on certain minimum principal\\namounts (e.g. $1 million) and may not reflect all of the factors that affect the value of the security, including\\nliquity risk. The prices provided are not firm bids or offers. Certain securities may reflect N/A or unavailable',\n",
       " 'where the price for such security is generally not available from a pricing source. The Market Value of a\\nsecutity, including those priced at par Value, may differ from its purchase price and may not closely reflect the\\nvalue at which the security may be sold or purchased based on various market factors. The sale or redemption\\nof any fixed income security prior to maturity may result in a loss. Prices for Certificates of Deposits (CDs) on',\n",
       " 'your statement are generally estimates and are not based on actual market prices. The secondary market for\\nCDs is generally illiquid. You should always request a current valuation for your securities prior fo making a\\nfinancial decision or placing an order.',\n",
       " '729384.2 - SAMPLE',\n",
       " \"Executing Orders on the Floor of the NYSE The Floor broker may permit the specialist to trade on party with\\nthe order for some or all of the executions associated with filling that order, where such permission would not\\nbe inconsistent with the broker's best execution obligations.\\nAgency Trades Individual securities trades placed for your Fidelity® Personalized Portfolios account are\\ncompleted on an agency basis by FBS.\",\n",
       " 'completed on an agency basis by FBS.\\nSIPC Securities in accounts carried by NFS, a Fidelity Investments company, are protected in accordance with\\nthe SIPC up to $500,000 (including cash claims limited to $250,000). For details, including the SIPC brochure,\\nplease see www.sipe.org or call 1-202-371-8300. NFS has afranged for additional protection for cash and\\ncovered securities to supplement its SIPC coverage. Neither coverage protects against a decline in the market\\nvalue of securities.',\n",
       " 'value of securities.\\nFidelity Investments Fidelity Distributors Corporation (FDC) is the distributor for Fidelity Funds with marketing\\nand shareholder services provided by FBS or NFS. Brokerage services are provided by FBS, which clears\\nall transactions through its affiliate, NFS. NFS carries all brokerage accounts. FBS and NFS are\\nmembers of the NYSE and SIPC. FBS, NFS, and FDC are direct or indirect subsidiaries of FMR LLC. Upon',\n",
       " 'written request, Fidelity will mail an NFS financial statement, which is also available for inspection at its office.\\nFidelity Investments (with pyramid logo) is a trademark of FMR LLC.\\nSAI Services Fidelity Portfolio Advisory Service®, Fidelity® Strategic Disciplines, Fidelity Wealth Management\\n‘AdvisorySM, and BlackRock® Diversified Income Portfolio are services offered through SAI, a registered\\ninvestment adviser and a Fidelity Investments company. Fidelity® Personalized Portfolios may be offered',\n",
       " 'through the following Fidelity Investments companies: SA\\\\, Fidelity Personal Trust Company, FSB (FPTC),\\na federal savings bank, or Fidelity Management Trust Company (FMTC). Non-deposit investment products\\nand trust services offered through FPTC and FMTC and their affiliates are not insured or guaranteed by the\\nFDIC or any other government agency, are not obligations of any bank, and are subject to risk, including\\npossible loss of principal. These advisory services are provided for a fee.',\n",
       " 'Ratings Information from Standard & Poors (\"S&P\") may not be reproduced. S&P credit ratings are\\n‘statements of opinion and are not statements of fact or recommendations to purchase, hold, or sell securities,\\nnor do they address the suitability of securities for investment purposes, and should not be relied on as\\ninvestment advice. S&P does not guarantee the accuracy, completeness, timeliness or availability of any',\n",
       " 'information, including ratings, and is not responsible for errors or omissions (negligent or otherwise). S&P gives\\nno express or implied warranties, including but not limited to any warranties of merchantability or fitness for a\\nparticular purpose or use. S&P shall not be liable for any direct, indirect, incidental, exemplary, compensatory,\\npunitive, special or consequential damages, costs, expenses, legal fees, or losses (including lost income or',\n",
       " 'ofits and opportunity costs) in connection with any use of ratings.',\n",
       " 'iscellaneous Mutual fund shares, other securities held in your account, and insurance products are neither\\ndeposits nor obligations of, nor endorsed or guaranteed by, any bank or other depositing institution, nor are they\\nfederally insured by the FDIC or any other agency. If you request a reprint of your statement, the disclosure\\ninformation may not be the same as the information originally provided. To confirm that an authorized, direct',\n",
       " 'deposit hasbeen made to your Fidelity Account or Fidelity Mutual Fund Account, call Fidelly at',\n",
       " '|-800-544-5555.\\n\\n28 of 28']"
      ]
     },
     "execution_count": 9,
     "metadata": {},
     "output_type": "execute_result"
    }
   ],
   "source": [
    "from langchain_text_splitters import RecursiveCharacterTextSplitter\n",
    "\n",
    "text_splitter = RecursiveCharacterTextSplitter(\n",
    "    chunk_size=512,\n",
    "    chunk_overlap=50,\n",
    ")\n",
    "\n",
    "with open(f\"text_data/{file_name}.txt\", \"r\") as f:\n",
    "    pdf_text = f.read()\n",
    "passages = text_splitter.split_text(pdf_text)\n",
    "passages"
   ]
  },
  {
   "cell_type": "markdown",
   "metadata": {},
   "source": [
    "Now we need to turn our passages into vector embeddings that we can store. This will help with retreiving relevant passages by putting them in a way that our machines can understand, a vector representation. We can use many different embeddings that depend on the type of documents we want to retreive from and what our purpose is. Different semantical meanings will have different embeddings depending on what you use.\n",
    "\n",
    "Nomic is a local lightweight embedding"
   ]
  },
  {
   "cell_type": "code",
   "execution_count": 10,
   "metadata": {},
   "outputs": [],
   "source": [
    "from langchain_community.vectorstores import SKLearnVectorStore\n",
    "from langchain_nomic.embeddings import NomicEmbeddings\n",
    "\n",
    "# Define open source embeddings\n",
    "embedding = NomicEmbeddings(model=\"nomic-embed-text-v1.5\", inference_mode=\"local\")\n",
    "\n",
    "vectorstore = SKLearnVectorStore.from_texts(\n",
    "    texts=passages,\n",
    "    embedding=embedding,\n",
    ")\n",
    "retriever = vectorstore.as_retriever(k=8)"
   ]
  },
  {
   "cell_type": "markdown",
   "metadata": {},
   "source": [
    "We now have a vectorstore of our document. We set k=8 for the retreiver, but this can depend on our chunking and context length for our LLM model. We can also put in documents that augment this if needed. For example, a description may be important if a use queries on use case.\n",
    "\n",
    "Next step is to set up a RAG workflow."
   ]
  },
  {
   "cell_type": "code",
   "execution_count": 11,
   "metadata": {},
   "outputs": [
    {
     "data": {
      "text/plain": [
       "[Document(metadata={'id': '331d5551-b816-477b-9ef0-b1879ea35459'}, page_content='represent accruals for only those securities with listed Al in the Holdings section of this\\nstatement. Please refer to the Help/Glossary section of Fidelity. com for additional information.\\nSee Cost Basis Information and Endnotes for important information about the adjusted cost\\nbasis information provided.'),\n",
       " Document(metadata={'id': '5b6d7ff0-c94d-4ec4-baa8-93db324b515e'}, page_content='IMPORTANT: If you have any unsettled trades pending, the asset allocation presented above\\nmay be materially impacted and, depending on the size and scope of such unsettled trades,\\nrendered unreliable. Asset allocation includes Other Holdings and Assets Held Away when\\napplicable. Please note that, due to rounding, percentages may not add to 100%. For further\\ndetails, please see \"Frequently Asked Questions\" at Fidelity.com/Statements.\\n\\n3 of 28\\n(Fidelity\\n\\nAccount Value:\\n\\nChange in Account Value'),\n",
       " Document(metadata={'id': 'f4cdeb14-a1d5-4a19-bdb7-ae80d66c9c28'}, page_content='n Exercise for a stock option. Stock Option Exercise. Please see your exercise transaction confirma-\\ntion statement and specific plan section of this statement for your total cost, tax withholding and\\n\\nany applicable fees.\\n\\n17 of 28\\n*“\" SAMPLE STATEMENT ***\\nFor informational purposes only INVESTMENT REPORT\\n\\n69 Fidelil f July 1 - July 31, 2015\\n\\nEstimated Cash Flow Account 111-111111\\n(Rolling as of July 31, 2015) John W. Doe - Individual TOD'),\n",
       " Document(metadata={'id': '566f8ccc-c594-4e16-b2c8-dfb7464d2fec'}, page_content='Third party provided.\\n\\n10 of 28\\n(Fidelity\\n\\n** SAMPLE STATEMENT ***\\n\\nFor informational purposes only\\n\\nINVESTMENT REPORT\\nJuly 1 - July 31, 2015')]"
      ]
     },
     "execution_count": 11,
     "metadata": {},
     "output_type": "execute_result"
    }
   ],
   "source": [
    "retriever.invoke(\"Get me a csv of all asset quantities.\")"
   ]
  },
  {
   "cell_type": "code",
   "execution_count": 12,
   "metadata": {},
   "outputs": [],
   "source": [
    "from langchain_openai import ChatOpenAI\n",
    "llm = ChatOpenAI(model=\"gpt-4o-mini\")"
   ]
  },
  {
   "cell_type": "code",
   "execution_count": null,
   "metadata": {},
   "outputs": [],
   "source": [
    "from langchain_community.chat_models import ChatOllama\n",
    "llama_model = ChatOllama(model=\"llama3\", temperature=0)"
   ]
  },
  {
   "cell_type": "code",
   "execution_count": 1,
   "metadata": {},
   "outputs": [
    {
     "ename": "NameError",
     "evalue": "name 'retriever' is not defined",
     "output_type": "error",
     "traceback": [
      "\u001b[1;31m---------------------------------------------------------------------------\u001b[0m",
      "\u001b[1;31mNameError\u001b[0m                                 Traceback (most recent call last)",
      "Cell \u001b[1;32mIn[1], line 10\u001b[0m\n\u001b[0;32m      5\u001b[0m \u001b[38;5;28;01mdef\u001b[39;00m \u001b[38;5;21mformat_docs\u001b[39m(docs):\n\u001b[0;32m      6\u001b[0m     \u001b[38;5;28;01mreturn\u001b[39;00m \u001b[38;5;124m\"\u001b[39m\u001b[38;5;130;01m\\n\u001b[39;00m\u001b[38;5;130;01m\\n\u001b[39;00m\u001b[38;5;124m\"\u001b[39m\u001b[38;5;241m.\u001b[39mjoin(doc\u001b[38;5;241m.\u001b[39mpage_content \u001b[38;5;28;01mfor\u001b[39;00m doc \u001b[38;5;129;01min\u001b[39;00m docs)\n\u001b[0;32m      9\u001b[0m rag_chain \u001b[38;5;241m=\u001b[39m (\n\u001b[1;32m---> 10\u001b[0m     {\u001b[38;5;124m\"\u001b[39m\u001b[38;5;124mcontext\u001b[39m\u001b[38;5;124m\"\u001b[39m: \u001b[43mretriever\u001b[49m \u001b[38;5;241m|\u001b[39m format_docs, \u001b[38;5;124m\"\u001b[39m\u001b[38;5;124mquestion\u001b[39m\u001b[38;5;124m\"\u001b[39m: RunnablePassthrough()}\n\u001b[0;32m     11\u001b[0m     \u001b[38;5;241m|\u001b[39m prompt\n\u001b[0;32m     12\u001b[0m     \u001b[38;5;241m|\u001b[39m llama_model\n\u001b[0;32m     13\u001b[0m     \u001b[38;5;241m|\u001b[39m StrOutputParser()\n\u001b[0;32m     14\u001b[0m )\n",
      "\u001b[1;31mNameError\u001b[0m: name 'retriever' is not defined"
     ]
    }
   ],
   "source": [
    "from langchain import hub\n",
    "from langchain_core.runnables import RunnablePassthrough\n",
    "from langchain_core.output_parsers import StrOutputParser\n",
    "prompt = hub.pull(\"rlm/rag-prompt\")\n",
    "def format_docs(docs):\n",
    "    return \"\\n\\n\".join(doc.page_content for doc in docs)\n",
    "\n",
    "\n",
    "rag_chain = (\n",
    "    {\"context\": retriever | format_docs, \"question\": RunnablePassthrough()}\n",
    "    | prompt\n",
    "    | llama_model\n",
    "    | StrOutputParser()\n",
    ")\n",
    "\n"
   ]
  },
  {
   "cell_type": "code",
   "execution_count": 14,
   "metadata": {},
   "outputs": [
    {
     "data": {
      "text/plain": [
       "'The document is an investment report for the period of July 1 to July 31, 2015, provided for informational purposes. It includes details on minimum required distributions (MRD) and encourages readers to consult additional sections for calculation details and cost basis information. The report emphasizes the importance of adhering to IRS requirements and suggests contacting Fidelity for further assistance.'"
      ]
     },
     "execution_count": 14,
     "metadata": {},
     "output_type": "execute_result"
    }
   ],
   "source": [
    "rag_chain.invoke(\"Describe this document to me.\")"
   ]
  }
 ],
 "metadata": {
  "kernelspec": {
   "display_name": "Python 3",
   "language": "python",
   "name": "python3"
  },
  "language_info": {
   "codemirror_mode": {
    "name": "ipython",
    "version": 3
   },
   "file_extension": ".py",
   "mimetype": "text/x-python",
   "name": "python",
   "nbconvert_exporter": "python",
   "pygments_lexer": "ipython3",
   "version": "3.11.9"
  }
 },
 "nbformat": 4,
 "nbformat_minor": 2
}
