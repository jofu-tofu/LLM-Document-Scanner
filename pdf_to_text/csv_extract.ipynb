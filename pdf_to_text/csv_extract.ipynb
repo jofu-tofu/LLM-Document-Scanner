{
 "cells": [
  {
   "cell_type": "markdown",
   "metadata": {},
   "source": [
    "### Context of this Notebook\n",
    "Define a RAG workflow for generating our CSV from a query using LangGraph."
   ]
  },
  {
   "cell_type": "code",
   "execution_count": 19,
   "metadata": {},
   "outputs": [],
   "source": [
    "# Document we are working with\n",
    "file_name = \"sample-new-fidelity-acnt-stmt\"\n",
    "local_llm = \"llama3\"\n",
    "\n",
    "# Run OCR on PDF and gives us text file\n",
    "%run -i pdf_to_text.py $file_name"
   ]
  },
  {
   "cell_type": "code",
   "execution_count": 32,
   "metadata": {},
   "outputs": [
    {
     "data": {
      "text/plain": [
       "[Document(page_content='Total Stocks (32% of account holdings) $43,724.65 $37,376.42 $6,348.23 $304.68\\nBonds\\nPrice Ending Market Value Total Unrealized Est.Annual Coupon\\nDescription Maturity Quantity Per Unit Accrued Interest (Al) Cost Basis Gain/Loss___Income (EAl) Rate\\nAsset Backed Securities\\nFEDERAL NATL MTG ASSN 12/17/13 10,000.00 $100.00 $10,000.00 $10,250.00! -$250.00 $125.00 1.25%\\nCUSIP: 3136FPEX1\\nInt. Semi-Annually\\nTotal Asset Backed Securities (7% of account holdings) $10,000.00 $10,250.00 -$250.00 $125.00'),\n",
       " Document(page_content='Stocks\\nPrice Ending Total Unrealized Est. Annual .\\nDescription Quantity Per Unit Market Value Cost Basis Gain/Loss___Income (EAl) (EY)\\nCommon Stocks\\nAPPLE INC (AAPL) 25.00 525.31 $13,132.75 $9,350.12¢ $3,782.63 $304.68 2.32%\\nAMERCO COM (UHAL) 30.00 203.15A 6,094.50 4,149.75¢ 1,944.75 _\\nENSTAR GROUP LIMITED COM STK USD 1.00 ~100.00 137.10 -13,710.00 -14,510.99¢ 800.99 _\\n(ESGR)\\nTotal Common Stock (24% of account holdings) $5,517.25 $-1,011.12 $6,528.37 $304.68\\nPreferred Stocks\\nBANK AMER CORP DEP SHS REPSTG 1/1200TH 150.00 $20.230 $3,034.50 $2,470.16 $564.34\\nPFD SER 5 (BMLPRL)\\nMCITIGROUP INC DEP SH REP STG 1/100TH INT 300.00 25.843 7,752.90 6,895.40 857.50\\nNON CUMULATIVE PFD SER F 8.50% (CPRM)\\nISIN: US1729675561\\nTotal Preferred Stock (8% of account holdings) $10,787.40 $9,365.56 $1,421.84\\nTotal Stocks (32% of account holdings) $43,724.65 $37,376.42 $6,348.23 $304.68\\nBonds\\nPrice Ending Market Value Total Unrealized Est.Annual Coupon'),\n",
       " Document(page_content='maintenance requirements. Assets held in brokerage accounts managed by Strategic Advisers, Inc. (SA) are\\ncarried by NFS and covered by SIPC but do not contribute to your margin and maintenance requirements.'),\n",
       " Document(page_content='21 of 28\\n(Fidelity\\n\\nHoldings (continued)\\n\\n** SAMPLE STATEMENT ***\\n\\nFor informational purposes only\\n\\nINVESTMENT REPORT\\n\\nJuly 1— July 31, 2015\\n\\nAccount 222-222222\\nJohn W. Doe - Traditional IRA\\n\\nBonds\\n\\nPrice _ Ending Market Value Total Unrealized Est. Annual Coupon\\nDescription Maturity Quantity Per Unit Accrued interest (Al) Cost Basis Gain/Loss Income (EAI) Rate\\nSABRATEK CORP NT CV 4/15/15 10000.00 100.00 $10,000.00 $10,000.00 _ 600.00 6.00%\\nCUSIP: 78571UAA6\\nSemi-Annual Interest\\nDELPHI CORP JR SB NT 10/15/33. 15000.00 102.50 15,375.00 15,025.00 350.00 1,237.50 8.250\\nCUSIP: 247126AF2\\nFixed Coupon; Quarterly Interest\\nESCROW GEN MOTORS CORP BOND 3/15/36 10000.00 101.00 10,100.00 9,900.00 999,999.99 999,999.99 7.750\\nCUSIP: 370ESCAT2\\nFixed Coupon; Semi-Annual Interest;\\nTotal Bonds (25% of account holdings) $35,475.00 $34,925.00 $550.00 $2,612.50\\nOther'),\n",
       " Document(page_content='Asset Allocation\\n\\n4% Other\\n6% Short-term\\n\\n9 _\\n20% Bonds 42% Domestic Stock\\n\\n28% Foreign Stock\\n\\nPercent of\\nAsset Class Portfolio\\nDomestic Stock 42%\\nForeign Stock 28\\nBonds 20\\nShort-term 6\\nOther 4\\n\\nIMPORTANT: If you have any unsettled trades pending, the asset allocation presented above\\nmay be materially impacted and, depending on the size and scope of such unsettled trades,\\nrendered unreliable. Asset allocation includes Other Holdings and Assets Held Away when\\napplicable. Please note that, due to rounding, percentages may not add to 100%. For further\\ndetails, please see \"Frequently Asked Questions\" at Fidelity.com/Statements.\\n\\n3 of 28\\n(Fidelity\\n\\nAccount Value:\\n\\nChange in Account Value\\n\\n*** SAMPLE STATEMENT ***\\nFor informational purposes only\\n\\n$103,351.18\\n\\nA $15,297.23\\n\\nThis Period Year-to-Date'),\n",
       " Document(page_content='Price — Ending Market Value Total Unrealized Est.Annual Coupon\\nDescription Maturity Quantity Per Unit Accrued Interest (Al) Cost Basis Gain/Loss___Income (EAl) Rate\\nCorporate Bonds\\nSABRATEK CORP NT CV 12/15/13 5,000.00 $101.250 $5,062.50 $10,000.00! ~$4,937.50 $300.00 6.00%\\nCUSIP: 78571UAA6\\nInt. Semi-Annually\\nCALPINE CORP ESCROW 4 131347BD7 11/15/13 10,000.000 99.500 9,950.00 10,000.00 -50.00 125.00 4.50\\nCUSIP: 131ESC9D9\\nFixed Coupon; Unrated; At Maturity\\nTotal Corporate Bonds (11% of account holdings) $15,012.50 $20,000.00 -$4,987.50 $750.00\\nMunicipal Bonds\\nNEW YORK NY CITY INDL DEV AGY REV 3iti4 10,000.000 $107.442 $10,744.20 $10,000.008 $744.20 $500.00 5.000%\\nCUSIP: 64971PEN1\\nFixed Coupon; MBIA Insured; Moodys BAA1; S&P BBB; Int. Semi-Annually\\nTotal Municipal Bonds (8% of account holdings) $10,744.20 $10,000.00 $744.20 $500.00\\nOther Bonds\\nTXU SR NT-P 11/15/14 5,000.00 $100.00 $5,000.00 $10,000.00 -$5,000.00 $227.50 5.55%\\nCUSIP: 873168AL2\\nFixed Coupon'),\n",
       " Document(page_content='confused with a security\\'s 30-day Yield or 7-day Yield, if provided, as such yield quotations\\nreflect the actual historical performance of a security. For additional information, including\\ncalculation details, refer to the \"Additional Information and Endnotes\" section at the end\\nof your statement.'),\n",
       " Document(page_content=\"for a specific security position over the next rolling 12 months. EY is calculated by dividing the\\ncurrent EAI for a security position by its statement closing date market value. EY reflects only\\nthe income generated by an investment, it does not reflect changes in its price, which may\\nfluctuate. For certain types of securities, EAl and EY could include the return of principal or\\ncapital gains which would render them overstated. EAI and EY are estimates provided for\\ninformational purposes only and should not be relied on for making investment, trading, or tax\\ndecisions. There is no guarantee that your investments will actually generate the EAl or EY\\npresented. Actual income and yield might be lower or higher. EAl and EY should not be\\nconfused with a security's 30-day Yield or 7-day Yield, if provided, as such yield quotations\\nreflect the actual historical performance of a security. For additional information, including\"),\n",
       " Document(page_content=\"Executing Orders on the Floor of the NYSE The Floor broker may permit the specialist to trade on party with\\nthe order for some or all of the executions associated with filling that order, where such permission would not\\nbe inconsistent with the broker's best execution obligations.\\nAgency Trades Individual securities trades placed for your Fidelity® Personalized Portfolios account are\\ncompleted on an agency basis by FBS.\\nSIPC Securities in accounts carried by NFS, a Fidelity Investments company, are protected in accordance with\\nthe SIPC up to $500,000 (including cash claims limited to $250,000). For details, including the SIPC brochure,\\nplease see www.sipe.org or call 1-202-371-8300. NFS has afranged for additional protection for cash and\\ncovered securities to supplement its SIPC coverage. Neither coverage protects against a decline in the market\\nvalue of securities.\\nFidelity Investments Fidelity Distributors Corporation (FDC) is the distributor for Fidelity Funds with marketing\"),\n",
       " Document(page_content='Holdings Account 111-111111\\nJohn W. Doe - Individual TOD\\nCore Account\\nTotal Unrealized Est.Annual Est. Yield\\nDescription Quantity Price Ending Value Cost Basis Gain/Loss Income (EAI) (EY)\\nFDIC INSURED DEPOSIT AT FIFTH THIRD BANK 3,500.500 $1.000 $3,500.50 N/A - _- _-\\nIRA NOT COVERED BY SIPC (QPIKQ) ?\\n= Interest rate: 0.010%\"\\nTotal Core Account (3% of account holdings) $3,500.50\\nMutual Funds\\nPrice Ending Total Unrealized Est.Annual Est.\\nDescription Quantity Per Unit Market Value Cost Basis Gain/Loss Income (EAI) (EY)\\nBond Funds\\nDOUBLELINE TOTAL RETURN BOND FD CLI 1,015.328 $11.190 $11,361.52 $7,536.91 $3,824.61 $531.72 4.68%\\n(DBLTX)\\n— 30-day yield: 4.83%\\nShort-term Funds\\nFIDELITY INSTL MMKT PORT CL | (FMPXX) 5,025.810 $1.000 $5,025.81 N/A NIA _\\n— 7-day yield: 0.01%\\nTotal Mutual Funds (12% of account holdings) $16,387.33 $7,536.91 $3,824.61 $531.72\\nExchange Traded Products = (e.g. ETF, ETN)\\nPrice Ending Total Unrealized\\nDescription Quantity Per Unit Market Value Cost Basis Gain/Loss'),\n",
       " Document(page_content=\"(Fidelity\\n\\nHoldings (continued)\\n\\nAl\\n\\nInvestments such as direct participation program securities (e.g., partnerships, limited liability\\ncompanies, and real estate investment trusts which are not listed on any exchange), commodity\\npools, private equity, private debt and hedge funds are generally illiquid investments and their\\ncurrent values may be different from the purchase price. Unless otherwise indicated, the values\\nshown in this statement for such investments have been provided by the management, admin-\\nistrator or sponsor of each program or a third-party vendor without independent verification by\\nFidelity Brokerage Services (FBS) and represent their estimate of the value of the investor's\\nparticipation in the program, as of a date no greater than 18 months from the date of this state-\\nment. Therefore, the estimated values shown herein may not necessarily reflect actual market\\nvalues or be realized upon liquidation. If an estimated value is not provided, valuation informa-\\ntion is not available.\"),\n",
       " Document(page_content=\"Short Account Balances Securities sold short are held in a segregated short account. These securities are\\nmarked-to-market for margin purposes, and any increase or decrease from the previous week's value is\\ntransferred weekly to your margin account. Fidelity represents your short account balance as of the last weekly\\nmark-to-market, not as of the statement end date.\\n\\nInformation About Your Option Transactions Each transaction confirmation previously delivered to you\\ncontains full information about commissions and other charges, and such information is available promptly\\nupon request. Assignments of American and European-style options are allocated among customer short\\npositions pursuant to a random allocation procedure, a description is available upon request. Short positions in\\nAmerican-style options are liable for assignment anytime. The writer of a European-style option is subject to\\nexercise assignment only during the exercise period. For more information, please call Fidelity at\\n800-544-6666.\"),\n",
       " Document(page_content='$582.57\\n\\n8 of 28\\nFidelity\\n\\nHoldings (continued)\\n\\n** SAMPLE STATEMENT ***\\n\\nFor informational purposes only\\n\\nINVESTMENT REPORT\\nJuly 1 — July 31, 2015\\n\\nAccount 111-111111\\nJohn W. Doe - Indi\\n\\nOther\\nPrice Ending Market Value Total Unrealized Est.Annual Est.\\nDescription Quantity Per Unit Accrued interest (Al) Cost Basis Gain/Loss Income (EAI)\\nADI NET LEASE INC & GROWTH LP XIX UNIT 5.000 $291.000A $1,455.00 unknown, unknown, _- -\\nLTP PARTNERSHIP INT BASED ON MGMTS\\nUNCONFIRMED EST OF NET ASSETS\\nM VENTAS INC (VTR) 500.000 10.57 5,285.00 unknown? unknown, _- -\\nTotal Other (5% of account holdings) $6,740.00 - - -\\nTotal Holdings $108,051.18 $120,163.33 $41.54 $2,488.45\\n\\n9 of 28\\n** SAMPLE STATEMENT ***\\n\\nFor informational purposes only\\n\\n(Fidelity\\n\\nHoldings (continued)\\n\\nAl'),\n",
       " Document(page_content='Accrued Interest Presented for domestic fixed income securities and represents interest\\naccumulated since the last coupon date, but not yet paid by the issuer or received by NFS. Al is\\ncalculated for the following securities: fixed rate bonds and Certificates of Deposit (CDs). There\\nis no guarantee that Al will be paid by the issuer. Al for treasury and GNMA securities,\\nhowever, is backed by the full faith and credit of the United States Government. Al totals\\nrepresent accruals for only those securities with listed Al in the Holdings section of this\\nstatement. Please refer to the Help/Glossary section of Fidelity. com for additional information.\\nSee Cost Basis Information and Endnotes for important information about the adjusted cost\\nbasis information provided.\\n\\nCost basis information (or proceeds from short sales) has been provided by you and has'),\n",
       " Document(page_content='Price Ending Total Unrealized Est.Annual Est.\\nDescription Quantity Per Unit Market Value Cost Basis Gain/Loss Income (EAI) (EY)\\nGENERAL MTRS CO WTS EXP 07/10/2016 190.000 $15.290 $2,905.10 unknown unknown, _-\\n(GMWSA)\\nGENERAL MTRS CO WTS EXP 07/10/2019 190.000 10.570 2,008.30 unknown unknown, _-\\n(GMWSB)\\nSOUTHWEST ROYALTIES INSTITUTIONAL 6.000 123.000A 738.00 unknown, unknown, _-\\nINCOME FUND LP IX-B\\nBased on an independent appraisal\\nTotal Other (4% of account holdings) $5,651.40 - - -\\nTotal Holdings $142,413.12 $109,600.63 $17,658.17 ‘$4,456.07\\n\\nt Third party provided.\\n\\nAll positions held in cash account unless indicated otherwise.\\n\\n22 of 28\\n*** SAMPLE STATEMENT ***\\nFor informational purposes only\\n\\n(Fidel\\n\\nly\\n\\nActivity\\n\\nDividends, Interest & Other Income\\n(Including dividend reinvestments)\\n\\nINVESTMENT REPORT\\nJuly 1— July 31, 2015\\n\\nAccount 222-222222\\nJohn W. Doe - Traditional IRA\\n\\nSettlement ‘Symbol! Transaction\\n\\nDate Security Name CUSIP Transaction Description Quantity Price Cost Transaction Total'),\n",
       " Document(page_content='Price Information/Total Market Value The Total Market Value has been calculated out to 9 decimal places;\\nhowever, the individual unit price is displayed in 5 decimal places. The Total Market Value represents prices\\noblained from various sources, may be impacted by the frequency with which such prices are reported and\\nsuch prices are not guaranteed. Prices received from pricing vendors are generally based on current market,\\nquotes, but when such quotes are not available the pricing vendors use a variety of techniques to estimate\\nvalue. These estimates, particularly for fixed income securities, may be based on certain minimum principal\\namounts (e.g. $1 million) and may not reflect all of the factors that affect the value of the security, including\\nliquity risk. The prices provided are not firm bids or offers. Certain securities may reflect N/A or unavailable\\nwhere the price for such security is generally not available from a pricing source. The Market Value of a'),\n",
       " Document(page_content='7 of 28\\nFidelity\\nHoldings (continued)\\n\\nBonds (continued)\\n\\n*** SAMPLE STATEMENT ***\\nFor informational purposes only\\n\\nINVESTMENT REPORT\\nJuly 1 — July 31, 2015\\n\\nAccount 111-111111\\nJohn W. Doe - Individual TOD'),\n",
       " Document(page_content='Holdings Account 222-222222\\nJohn W. Doe - Traditional IRA\\nCore Account\\nTotal Unrealized Est. Annual\\nDescription Quantity Price Ending Value Cost Basis Gain/Loss _Income (EAl) (EY)\\nFIDELITY CASH RESERVES (FDRXX) 2,070.880 $1.000 $2,070.88 N/A _ _ 0.010%\\n— 7-day yield: 0.010%\\nTotal Core Account (1% of account holdings) $2,070.88\\nStocks\\nPrice Ending Total Unrealized Est. Annual\\nDescription Quantity Per Unit Market Value Cost Basis Gain/Loss _Income (EAl) (EY)\\nCOMMON STOCK\\nAPPLE INC (AAPL) 30.00 $525.31 $15,759.30 $8,247.50! $7,511.80 $365.62 2.32%\\nEXXON MOBILE (XOM) 50.00 87.96 4,398.00 4,149.75, 248.25 125.78 2.86\\nFACEBOOK (FB) 60.00 25.16 1,509.60 1,848.95! -339.35\\nGENERAL MOTORS CO USD0.01 (GM) 209.00 35.56 7,432.04 unknown unknown,\\nISIN: US37045V1008\\nSEDOL: B3SMT78\\nSLM CORP CPI LKD NT FLTG RATE 0.00% 590.00 23.49 13,859.10 9,090.70 4,768.40\\n03/15/2017 (OSM)\\nSTANDARD PACIFIC CORP (SPF) 5,100.00 9.238 47,113.80 61,354.44 863.47 1,352.17 2.87'),\n",
       " Document(page_content='Cost basis information (or proceeds from short sales) has been provided by you and has\\n\\nnot been adjusted except as otherwise indicated. When positions are transferred between\\naccounts, in certain cases, cost basis information may be automatically transferred and deemed\\nto be customer-provided.\\n\\nIncludes exchange-traded funds (ETFs), exchange-traded notes (ETNs), and other exchange-\\ntraded vehicles\\n\\nINVESTMENT REPORT\\nJuly 1 — July 31, 2015\\n\\nAccount 111-111111\\nJohn W. Doe - Individual TOD\\n\\nEAI Estimated Annual Income (EAl) & Estimated Yield (EY) EAI is an estimate of annual income\\n\\n&\\nEY'),\n",
       " Document(page_content='B See Cost Basis Information and Endnotes for important information about the adjusted cost basis\\ninformation provided.\\n\\nn Exercise for a stock option. Stock Option Exercise. Please see your exercise transaction confirma-\\ntion statement and specific plan section of this statement for your total cost, tax withholding and\\n\\nany applicable fees.\\n\\n17 of 28\\n*“\" SAMPLE STATEMENT ***\\nFor informational purposes only INVESTMENT REPORT\\n\\n69 Fidelil f July 1 - July 31, 2015\\n\\nEstimated Cash Flow Account 111-111111\\n(Rolling as of July 31, 2015) John W. Doe - Individual TOD\\n\\nTotal Est.\\nMonth Bond & CD Income Bond & CD Principal Stock Income Mutual Fund Income Cash Flow\\nAugust 2015 — — $76 $44 $120\\nSeptember $413 — 193 44 650\\nOctober _— — — 44 44\\nNovember — — 76 44 120\\nDecember 413 — 193 44 650\\nJanuary 2016 — = = 44 44\\nFebruary — — 76 44 120\\nMarch 413 - 193 44 650\\nApril - — — 44 44\\nMay — — 76 44 120\\nJune 413 — 193 44 650\\nJuly — — — 44 44\\nTotal $1,653 = $1,075 $532 $3,259')]"
      ]
     },
     "execution_count": 32,
     "metadata": {},
     "output_type": "execute_result"
    }
   ],
   "source": [
    "# RETREIVER DEFINITION\n",
    "import os\n",
    "from langchain_community.vectorstores import faiss\n",
    "from langchain_nomic.embeddings import NomicEmbeddings\n",
    "from langchain_text_splitters import RecursiveCharacterTextSplitter\n",
    "\n",
    "# if not os.path.exists(f\"{file_name}\"):\n",
    "#     os.makedirs(\"text_data\")\n",
    "text_splitter = RecursiveCharacterTextSplitter(\n",
    "    chunk_size=1024,\n",
    "    chunk_overlap=200,\n",
    ")\n",
    "embedding = NomicEmbeddings(model=\"nomic-embed-text-v1.5\", inference_mode=\"local\")\n",
    "os.makedirs(\"vectorstore\", exist_ok=True)\n",
    "if not os.path.exists(f\"vectorstore/{file_name}.faiss\"):\n",
    "    with open(f\"text_data/{file_name}.txt\", \"r\") as f:\n",
    "        pdf_text = f.read()\n",
    "        passages = text_splitter.split_text(pdf_text)\n",
    "        # Define open source embeddings\n",
    "        vectorstore = faiss.FAISS.from_texts(\n",
    "            texts=passages,\n",
    "            embedding=embedding,\n",
    "        )\n",
    "        vectorstore.save_local(\"vectorstore\",file_name)\n",
    "else:\n",
    "    vectorstore = faiss.FAISS.load_local(\"vectorstore\",embedding, file_name, allow_dangerous_deserialization=True)\n",
    "retriever = vectorstore.as_retriever(search_kwargs={\"k\": 20})\n",
    "retriever.invoke(\"Quantity of stocks and securities for the purpose of underwriting.\")"
   ]
  },
  {
   "cell_type": "code",
   "execution_count": 20,
   "metadata": {},
   "outputs": [
    {
     "name": "stdout",
     "output_type": "stream",
     "text": [
      "{'score': 'no'}\n"
     ]
    }
   ],
   "source": [
    "### RETRIEVAL GRADER (MINIMUM TEST)\n",
    "\n",
    "from langchain_community.chat_models import ChatOllama\n",
    "from langchain_core.output_parsers import JsonOutputParser\n",
    "from langchain_core.prompts import PromptTemplate\n",
    "# LLM\n",
    "llm = ChatOllama(model=local_llm, format=\"json\", temperature=0)\n",
    "\n",
    "prompt = PromptTemplate(\n",
    "    template=\"\"\"<|begin_of_text|><|start_header_id|>system<|end_header_id|> You are a grader assessing relevance \n",
    "    of a retrieved document to a user question. If the document contains keywords related to the user question, \n",
    "    grade it as relevant. It does not need to be a stringent test. The goal is to filter out erroneous retrievals. \\n\n",
    "    Give a binary score 'yes' or 'no' score to indicate whether the document is relevant to the question. \\n\n",
    "    Provide the binary score as a JSON with a single key 'score' and no premable or explanation.\n",
    "     <|eot_id|><|start_header_id|>user<|end_header_id|>\n",
    "    Here is the retrieved document: \\n\\n {document} \\n\\n\n",
    "    Here is the user question: {question} \\n <|eot_id|><|start_header_id|>assistant<|end_header_id|>\n",
    "    \"\"\",\n",
    "    input_variables=[\"question\", \"document\"],\n",
    ")\n",
    "\n",
    "retrieval_grader = prompt | llm | JsonOutputParser()\n",
    "question = \"agent memory\"\n",
    "docs = retriever.invoke(question)\n",
    "doc_txt = docs[1].page_content\n",
    "print(retrieval_grader.invoke({\"question\": question, \"document\": doc_txt}))"
   ]
  },
  {
   "cell_type": "code",
   "execution_count": 18,
   "metadata": {},
   "outputs": [],
   "source": [
    "import langgraph\n",
    "\n",
    "from typing import Annotated, Sequence, TypedDict\n",
    "from langchain_core.messages import BaseMessage\n",
    "from langgraph.graph.message import add_messages\n",
    "\n",
    "class AgentState(TypedDict):\n",
    "    # The add_messages function defines how an update should be processed\n",
    "    # Default is to replace. add_messages says \"append\"\n",
    "    messages: Annotated[Sequence[BaseMessage], add_messages]"
   ]
  },
  {
   "cell_type": "markdown",
   "metadata": {},
   "source": [
    "def retrieval(state) -> Sequence[langgraph.Document]:\n",
    "    last_message = state[\"messages\"][-1]\n",
    "    state[\"documents\"] = retriever.invoke(last_message.text)\n",
    "    return "
   ]
  }
 ],
 "metadata": {
  "kernelspec": {
   "display_name": "llm",
   "language": "python",
   "name": "python3"
  },
  "language_info": {
   "codemirror_mode": {
    "name": "ipython",
    "version": 3
   },
   "file_extension": ".py",
   "mimetype": "text/x-python",
   "name": "python",
   "nbconvert_exporter": "python",
   "pygments_lexer": "ipython3",
   "version": "3.11.9"
  }
 },
 "nbformat": 4,
 "nbformat_minor": 2
}
