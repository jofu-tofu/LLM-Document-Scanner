{
 "cells": [
  {
   "cell_type": "markdown",
   "metadata": {},
   "source": [
    "### Context of this Notebook\n",
    "Define a RAG workflow for generating our CSV from a query using LangGraph.\n",
    "\n",
    "#### Design\n",
    "\n",
    "The purpose is to take our pdf and generate a resulting csv with as much accuracy towards our intended purpose.\n",
    "The overarching framework will be defined by LangGraph. Within the LangGraph, we need a couple things.\n",
    "\n",
    "**State:** As the workflow is running, a common state object will be passed around describing the status quo of the LangGraph.\n",
    "\n",
    "**Agents:** The workflow will be run by several agents. In context of what we are doing, there are several that we might need."
   ]
  },
  {
   "cell_type": "code",
   "execution_count": 6,
   "metadata": {},
   "outputs": [],
   "source": [
    "# Document we are working with\n",
    "file_name = \"sample-new-fidelity-acnt-stmt\"\n",
    "local_llm = \"llama3.1:70b\" # llama3 for 8b\n",
    "\n",
    "# Run OCR on PDF and gives us text file\n",
    "%run -i pdf_to_text.py $file_name"
   ]
  },
  {
   "cell_type": "code",
   "execution_count": 3,
   "metadata": {},
   "outputs": [
    {
     "data": {
      "text/plain": [
       "[Document(page_content=\"Advisers, Inc. (SAI) are carried by NFS and covered by SIPC but do not contribute to your margin and maintenance requirements.  Short Account Balances Securities sold short are held in a segregated short account. These securities are marked-to-market for margin purposes, and any increase or decrease from the previous week's value is transferred weekly to your margin account. Fidelity represents your short account balance as of the last weekly mark-to-market, not as of the statement end date.  Information About Your Option Transactions Each transaction confirmation previously delivered to you contains full information about commissions and other charges, and such information is available promptly upon request. Assignments of American and European-style options are allocated among customer short positions pursuant to a random allocation procedure, a description is available upon request. Short positions in American-style options are liable for assignment anytime. The writer of a European-style option is\"),\n",
       " Document(page_content='Maturity Quantity Per Unit Accrued Interest (Al) Cost Basis Gain/Loss Income (EAI) Rate  Asset Backed Securities  FEDERAL NATL MTG ASSN 12/17/13 10,000.00 $100.00 $10,000.00 $10,250.00t -$250.00 $125.00 1.25% CUSIP: 3136FPEX1  Int. Semi-Annually  Total Asset Backed Securities (7% of account holdings) $10,000.00 $10,250.00 -$250.00 $125.00  7 of 28 €° Fidelity  FMV E STADE eT  Holdings (continued)  Bonds (continued)  ““* SAMPLE STATEMENT ***  For informational purposes only  INVESTMENT REPORT  July 1 — July 31, 2015  Account 111-111111 John W. Doe - Individual TOD  Price Ending Market Value Total Unrealized Est. Annual Coupon Description Maturity Quantity Per Unit Accrued Interest (Al) Cost Basis Gain/Loss Income (EAI) Rate Corporate Bonds SABRATEK CORP NT CV 12/15/13 5,000.00 $101.250 $5,062.50 $10,000.00! -$4,937.50 $300.00 6.00% CUSIP: 78571UAA6 Int. Semi-Annually CALPINE CORP ESCROW 4 131347BD7 11/15/13 10,000.000 99.500 9,950.00 10,000.00 -50.00 125.00 4.50 CUSIP: 131ESC9D9 Fixed Coupon; Unrated; At'),\n",
       " Document(page_content='rate, variable rate, discount,and zero coupon.  Stock Income includes estimated dividend payments for common stock, ADR\\'s, and REITs.  Mutual Fund Income includes estimated dividend payments for Fidelity and non-Fidelity mutual funds.  The table above does not include cash flow from the following securities: preferred stocks, international stocks, exchange trade products (ETF\\'s & ETN\\'s), UITs, variable rate bonds, and international bonds, but may be included in future enhancements.  18 of 28 *** SAMPLE STATEMENT *** For informational purposes only INVESTMENT REPORT July 1 — July 31, 2015  €\" Fidelity  PME SOT ADE Me 7  $142,413.12  Vv $5,180.68  Account Value: Account 222-222222 John W. Doe - Traditional IRA  Change in Account Value Account Holdings  This Period Year-to-Date Beginning Account Value $147,593.80 $131,068.99 \"% Core Account Additions — 12,345.97 Contributions _— 5,000.00 / Securities Transferred In — 5,509.48 25% Bonds [ Other Additions — 1,836.49 \\\\ Subtractions — -4,614.82 \\' 0% Stocks'),\n",
       " Document(page_content='the EAl or EY presented. Actual income and yield might be lower or higher. EAl and EY should not be confused with a security\\'s 30-day Yield or 7-day Yield, if provided, as such yield quotations reflect the actual historical performance of a security. For additional information, including calculation details, refer to the \"Additional Information and Endnotes\" section at the end of your statement.  The stated Interest Rate is the interest rate effective for Cash Balances in your FDIC-insured Deposit Sweep on the last day of the statement period.  Position held in margin account. All other positions held in cash account.  Customers are responsible for monitoring their total assets at the Program Bank to determine the extent of available FDIC insurance. Subject to the terms of the customer agreement, cus- tomers are reminded that funds are swept to a Program Bank on the business day following the date that funds are credited to your account and until swept to a Program Bank, funds are covered by SIPC. For'),\n",
       " Document(page_content='E STADE eT  Holdings (continued) Account 222-222222 John W. Doe - Traditional IRA  Bonds  Price Ending Market Value Total Unrealized Est. Annual Coupon Description Maturity Quantity Per Unit Accrued Interest (Al) Cost Basis Gain/Loss Income (EAI) Rate SABRATEK CORP NT CV 4/15/15 10000.00 100.00 $10,000.00 $10,000.00! —_ 600.00 6.00%  CUSIP: 78571UAA6  Semi-Annual Interest  DELPHI CORP JR SB NT 10/15/33 15000.00 102.50 15,375.00 15,025.00 350.00 1,237.50 8.250 CUSIP: 247126AF2  Fixed Coupon; Quarterly Interest  ESCROW GEN MOTORS CORP BOND 3/15/36 10000.00 101.00 10,100.00 9,900.00 999,999.99 999,999.99 7.750 CUSIP: 370ESCAT2  Fixed Coupon; Semi-Annual Interest;  Total Bonds (25% of account holdings) $35,475.00 $34,925.00 $550.00 $2,612.50 Other Price Ending Total Unrealized Est. Annual Est. Yield Description Quantity Per Unit Market Value Cost Basis Gain/Loss Income (EAI) (EY) GENERAL MTRS CO WTS EXP 07/10/2016 190.000 $15.290 $2,905.10 unknown unknown _— (GMWSA) GENERAL MTRS CO WTS EXP 07/10/2019 190.000'),\n",
       " Document(page_content='independent verification by Fidelity Brokerage Services (FBS) and represent their estimate of the value of the investor’s participation in the program, as of a date no greater than 18 months from the date of this state- ment. Therefore, the estimated values shown herein may not necessarily reflect actual market values or be realized upon liquidation. If an estimated value is not provided, valuation informa- tion is not available.  Accrued Interest Presented for domestic fixed income securities and represents interest accumulated since the last coupon date, but not yet paid by the issuer or received by NFS. Al is calculated for the following securities: fixed rate bonds and Certificates of Deposit (CDs). There is no guarantee that Al will be paid by the issuer. Al for treasury and GNMA securities, however, is backed by the full faith and credit of the United States Government. Al totals represent accruals for only those securities with listed Al in the Holdings section of this statement. Please refer to the'),\n",
       " Document(page_content='proposal by calling Fidelity at 800-544-1766.  2 of 28 *** SAMPLE STATEMENT *** For informational purposes only  one gee INVESTMENT REPORT ¢ Fidelity July 1 — July 31, 2045  FMV E STADE eT  Portfolio Summary (continued)  Income Summary Asset Allocation This Period Year-to-Date 4% Other  Taxable $178.53 $2,839.92 6% Short-term  Dividends 178.53 1,548.74  Interest _ 10.25 20% Bonds 42% Domestic Stock  Short-term Capital Gains — 255.68  Long-term Capital Gains _— 1,025.25 Tax-exempt $372.10 $3,384.74  Dividends — 1,725.87  Interest 372.10 1,658.87 28% Foreign Stock Tax-deferred $500.31 $7,020.49 Percent of Return of Capital $4,000.00 $8,500.00 Asset Class Portfolio Liquidations — $1,576.16 Domestic Stock 42% Total $5,050.94 $23,278.62 Foreign Stock 28  Bonds 20 Short-term 6 Top Holdings Other 4 Percent of  Description Value Portfolio IMPORTANT: If you have any unsettled trades pending, the asset allocation presented above Johnson & Johnson (JNJ) $47,113.80 17% may be materially impacted and, depending on the'),\n",
       " Document(page_content='by the full faith and credit of the United States Government. Al totals represent accruals for only those securities with listed Al in the Holdings section of this statement. Please refer to the Help/Glossary section of Fidelity.com for additional information. See Cost Basis Information and Endnotes for important information about the adjusted cost basis information provided.  Cost basis information (or proceeds from short sales) has been provided by you and has  not been adjusted except as otherwise indicated. When positions are transferred between accounts, in certain cases, cost basis information may be automatically transferred and deemed to be customer-provided.  Includes exchange-traded funds (ETFs), exchange-traded notes (ETNs), and other exchange- traded vehicles  For informational purposes only  INVESTMENT REPORT July 1 — July 31, 2015  Account 111-111111 John W. Doe - Individual TOD  EAI Estimated Annual Income (EAI) & Estimated Yield (EY) EAI is an estimate of annual income  & EY  for a specific'),\n",
       " Document(page_content='Funds (12% of account holdings) $16,387.33 $7,536.91 $3,824.61 $531.72 Exchange Traded Products - (e.g. ETF, ETN)  Price Ending Total Unrealized Description Quantity Per Unit Market Value Cost Basis Gain/Loss SPDR SER TR BARCLAYS CAP HIGH YIELD BD 250.00 $40.66 $10,165.00 $10,000.00¢ $165.00 ETF (JNK) VANGUARD INTL EQUITY INDEX FDS MSCI 100.00 42.97 4,297.00 5,000.00 -703.00 EUROPE ETF (VJkK) Total Exchange Traded Products (11% of account holdings) $14,462.00 $15,000.00 -$538.00  6 of 28 *** SAMPLE STATEMENT *** For informational purposes only INVESTMENT REPORT  ¢ Fidelity July 1 — July 31, 2015  FMV E STADE eT  Holdings (continued) Account 1114-11111 John W. Doe - Individual TOD  Stocks Price Ending Total Unrealized Est. Annual Est. Yield Description Quantity Per Unit Market Value Cost Basis Gain/Loss Income (EAI) (EY) Common Stocks APPLE INC (AAPL) 25.00 525.31 $13,132.75 $9,350.12¢ $3,782.63 $304.68 2.32% AMERCO COM (UHAL) 30.00 203.15A 6,094.50 4,149.75¢ 1,944.75 _— ENSTAR GROUP LIMITED COM STK USD 1.00'),\n",
       " Document(page_content=\"coupon rate. The estimates for domestic common stock and mutual fund income are calculated using an indicated annual dividend (IAD). The IAD is an estimate of a security's dividend payments for the next 12 months calculated based on prior and/or declared dividends for that security. [ADs are sourced from third party vendors believed to be reliable, but no assurance can be made as to accuracy. There are circumstances in which these estimates will not be presented for a specific security you hold.  Please refer to the Help/Glossary section of Fidelity.com for additional information on these calculations.  Bond & CD Income includes interest payments for fixed rate bonds and Certificates of Deposit (CDs).  Bond & CD Principal includes maturing principal payments for CDs and the following bonds: fixed rate, floating rate, variable rate, discount,and zero coupon.  Stock Income includes estimated dividend payments for common stock, ADR's, and REITs.  Mutual Fund Income includes estimated dividend payments for\"),\n",
       " Document(page_content='(EY) Common Stocks APPLE INC (AAPL) 25.00 525.31 $13,132.75 $9,350.12¢ $3,782.63 $304.68 2.32% AMERCO COM (UHAL) 30.00 203.15A 6,094.50 4,149.75¢ 1,944.75 _— ENSTAR GROUP LIMITED COM STK USD 1.00 -100.00 137.10 -13,710.00 -14,510.99¢ 800.99 _— (ESGR) Total Common Stock (24% of account holdings) $5,517.25 $-1,011.12 $6,528.37 $304.68 Preferred Stocks BANK AMER CORP DEP SHS REPSTG 1/1200TH 150.00 $20.230 $3,034.50 $2,470.16 $564.34 PFD SER 5 (BMLPRL) M CITIGROUP INC DEP SH REP STG 1/100TH INT 300.00 25.843 7,752.90 6,895.40 857.50 NON CUMULATIVE PFD SER F 8.50% (CPRM) ISIN: US1729675561 Total Preferred Stock (8% of account holdings) $10,787.40 $9,365.56 $1,421.84 Total Stocks (32% of account holdings) $43,724.65 $37,376.42 $6,348.23 $304.68 Bonds Price Ending Market Value Total Unrealized Est. Annual Coupon Description Maturity Quantity Per Unit Accrued Interest (Al) Cost Basis Gain/Loss Income (EAI) Rate  Asset Backed Securities  FEDERAL NATL MTG ASSN 12/17/13 10,000.00 $100.00 $10,000.00 $10,250.00t -$250.00'),\n",
       " Document(page_content=\"sales loads and 12b-1 fees described in the prospectus as well as program participation and maintenance fees. Additional information about the source(s) and amount(s) of compensation as well as other remuneration received by FBS or NFS will be furnished to you upon written request. At the time you purchase shares of funds those shares will be assigned either a load, transaction fee (TF) or no transaction fee (NTF) status. When you subsequently sell those shares, any fees applicable to your transaction will be assessed based on the status assigned to the shares at the time of purchase.  Executing Orders on the Floor of the NYSE The Floor broker may permit the specialist to trade on parity with the order for some or all of the executions associated with filling that order, where such permission would not be inconsistent with the broker's best execution obligations.  Agency Trades Individual securities trades placed for your Fidelity® Personalized Portfolios account are completed on an agency basis by FBS.\"),\n",
       " Document(page_content='reinvestments)  Settlement Symbol/ Transaction  Date Security Name CUSIP Transaction Description Quantity Price Cost Transaction Total  7/08 GMAC LLC NT 7.25% GKM Interest $37.61  7/09 SPDR SER TR BARCLAYS CAP Dividend received 397.99 HIGH YIELD BD ETF  7/15 SLM CORP OSM Interest 64.99 CPI LKD NT FLTG RATE 0.00% 03/15/2017  7/31 FIDELITY CASH RESERVES FDRXX Dividend received 0.02  Total Dividends, Interest & Other Income $500.31  Daily Additions and Subtractions Fidelity NY Muni Money Market @ $1 per share (the following is provided to you in accordance with industry regulations)  Date Total Additions Total Subtractions Net Activity Daily Balance Date Total Additions Total Subtractions Net Activity Daily Balance 7/08 $37.61 _ $37.61 $1,608.18 7/15 $64.69 _ $64.69 $2,070.86 7/09 397.99 _ 397.99 2,006.17 7/31 0.02 _ 0.02 2,070.88  23 of 28 “™* SAMPLE STATEMENT ***  For informational purposes only INVESTMENT REPORT  July 1 — July 31, 2015  6° Fidelity  FMV E STADE eT  Account 222-222222 John W. Doe -'),\n",
       " Document(page_content='to open commitments in your cash accounts. Free credit balances are not segregated and may be used by NFS in accordance with federal securities law. There is no free credit balance in a retirement account or HSA. Assets Separate from Your Brokerage Account Only securities in the margin portion of your brokerage account contribute to margin and maintenance requirements. Other Assets, which may be reported on your statement, including insurance products that are distributed by FBS and Fidelity Insurance Agency, Inc. and mutual fund only accounts held directly with the fund (Fidelity Mutual Fund Accounts) are not carried by NFS, not covered by the Securities Investor Protection Corporation (SIPC) and do not count toward your margin and maintenance requirements. Assets held in brokerage accounts managed by Strategic Advisers, Inc. (SAI) are carried by NFS and covered by SIPC but do not contribute to your margin and maintenance requirements.  Short Account Balances Securities sold short are held in a segregated'),\n",
       " Document(page_content='$300.00 6.00% CUSIP: 78571UAA6 Int. Semi-Annually CALPINE CORP ESCROW 4 131347BD7 11/15/13 10,000.000 99.500 9,950.00 10,000.00 -50.00 125.00 4.50 CUSIP: 131ESC9D9 Fixed Coupon; Unrated; At Maturity Total Corporate Bonds (11% of account holdings) $15,012.50 $20,000.00 -$4,987.50 $750.00 Municipal Bonds NEW YORK N Y CITY INDL DEV AGY REV 3/1/14 10,000.000 $107.442 $10,744.20 $10,000.008 $744.20 $500.00 5.000% CUSIP: 64971PEN1 Fixed Coupon; MBIA Insured; Moodys BAA1; S&P BBB; Int. Semi-Annually Total Municipal Bonds (8% of account holdings) $10,744.20 $10,000.00 $744.20 $500.00 Other Bonds TXU SR NT-P 11/15/14 5,000.00 $100.00 $5,000.00 $10,000.00 -$5,000.00 $227.50 5.55% CUSIP: 873168AL2 Fixed Coupon Total Other Bonds (4% of account holdings) $5,000.00 $10,000.00 -$5,000.00 $227.50 US Treasury/Agency Securities UNITED STATES TREAS BILLS 11/21/13 10,000.00 $99.00 $9,900.00 $10,000.00 -$100.00 _— 0.00% CUSIP: 912796BL2 Fixed Coupon Total US Treasury/Agency Securities (7% of account holdings) $9,900.00'),\n",
       " Document(page_content='$131,068.99 \"% Core Account Additions — 12,345.97 Contributions _— 5,000.00 / Securities Transferred In — 5,509.48 25% Bonds [ Other Additions — 1,836.49 \\\\ Subtractions — -4,614.82 \\' 0% Stocks Distributions —_— -4,065.21 Securities Transferred Out — -692.22 Cards, Checking & Bill Payments — -461.48 Percent of Trans. Costs, Fees & Charges — -230.74 Holding Type Market Value Account? Taxes Withheld = -461.48 Stocks $99,215 10% Other Subtractions — -461.48 Bonds 35,475 25 Change in Investment Value -5,180.68 3,612.98 Other 9,651 4 Ending Account Value $142,413.12 $142,413.12 Core Account 2,070 1 Total $142,413 100% *Percent of Account based on positive values only. Top Holdings Percent of Description Market Value Account Johnson and Johnsn (JNJ) $47,113.80 33% Apple Inc (AAPL) 15,759.30 11 Delphi Corp Jr Sb Nt 15,375.00 11 Slim Corp Spi Lkd Nt (Osm) 13,859.10 10 Gen Motors Corp Bond 10,100.00 7 Total $102,207.20 72%  19 of 28 6° Fidelity  FMV E STADE eT  Account Summary (continued)  Core Account Cash Flow Core'),\n",
       " Document(page_content=\"September $413 _— 193 44 650 October _— _— _— 44 44 November _— _— 76 44 120 December 413 _— 193 44 650 January 2016 _— _— _— 44 44 February _— _— 76 44 120 March 413 —_— 193 44 650 April _— _— _— 44 44 May _— _— 76 44 120 June 413 _— 193 44 650 July _— _— _— 44 44 Total $1,653 _ $1,075 $532 $3,259  The table above presents the estimated monthly interest and dividend income and return of principal that your current holdings may generate over the next rolling 12 months. The cash flows displayed are estimates provided for informational purposes only and there is no guarantee that you will actually receive any of the amounts displayed. These estimates should not be relied upon for making investment, trading or tax decisions. The estimates for fixed rate domestic bond and CD income are calculated using the security's coupon rate. The estimates for domestic common stock and mutual fund income are calculated using an indicated annual dividend (IAD). The IAD is an estimate of a security's dividend payments for the\"),\n",
       " Document(page_content='Value Portfolio IMPORTANT: If you have any unsettled trades pending, the asset allocation presented above Johnson & Johnson (JNJ) $47,113.80 17% may be materially impacted and, depending on the size and scope of such unsettled trades,  Apple Inc (AAPL) 28,892.05 9 rendered unreliable. Asset allocation includes Other Holdings and Assets Held Away when applicable. Please note that, due to rounding, percentages may not add to 100%. For further  NH Portfolio 2015 Delphi 21,221.14 7 details, please see \"Frequently Asked Questions\" at Fidelity.com/Statements. Corp Jr Sb Nt Slm Corp 15,375.00 5  Spi Lkd Nt (OSM) 13,859.10 5  Total $126,461.09 45%  3 of 28 *** SAMPLE STATEMENT *** For informational purposes only INVESTMENT REPORT  ¢ Fidelity July 1 — July 31, 2015  PME SOT ADE Me 7  Account Value: $103,351 18 Account 111-111111  John W. Doe - Individual TOD  Change in Account Value A $15,297.23 Account Holdings This Period Year-to-Date 3% Core Account Beginning Account Value $88,053.95 $76,911.26 5% Other 11%'),\n",
       " Document(page_content='information is not intended to address tax law or reporting requirements applicable in your country of tax residence.  B See Cost Basis Information and Endnotes for important information about the adjusted cost basis information provided.  n Exercise for a stock option. Stock Option Exercise. Please see your exercise transaction confirma- tion statement and specific plan section of this statement for your total cost, tax withholding and any applicable fees.  17 of 28 “™* SAMPLE STATEMENT ***  For informational purposes only INVESTMENT REPORT  July 1 — July 31, 2015  6° Fidelity  FMV E STADE eT  Account 111-111111 John W. Doe - Individual TOD  Estimated Cash Flow (Rolling as of July 31, 2015)  Total Est. Month Bond & CD Income Bond & CD Principal Stock Income Mutual Fund Income Cash Flow August 2015 — — $76 $44 $120 September $413 _— 193 44 650 October _— _— _— 44 44 November _— _— 76 44 120 December 413 _— 193 44 650 January 2016 _— _— _— 44 44 February _— _— 76 44 120 March 413 —_— 193 44 650 April _— _— _—'),\n",
       " Document(page_content='prices are not guaranteed. Prices received from pricing vendors are generally based on current market quotes, but when such quotes are not available the pricing vendors use a variety of techniques to estimate value. These estimates, particularly for fixed income securities, may be based on certain minimum principal amounts (e.g. $1 million) and may not reflect all of the factors that affect the value of the security, including liquidity risk. The prices provided are not firm bids or offers. Certain securities may reflect N/A or unavailable where the price for such security is generally not available from a pricing source. The Market Value of a security, including those priced at par value, may differ from its purchase price and may not closely reflect the value at which the security may be sold or purchased based on various market factors. The sale or redemption of any fixed income security prior to maturity may result in a loss. Prices for Certificates of Deposits (CDs) on your statement are generally')]"
      ]
     },
     "execution_count": 3,
     "metadata": {},
     "output_type": "execute_result"
    }
   ],
   "source": [
    "# RETREIVER DEFINITION\n",
    "import os\n",
    "from langchain_community.vectorstores import faiss\n",
    "from langchain_nomic.embeddings import NomicEmbeddings\n",
    "from langchain_text_splitters import RecursiveCharacterTextSplitter\n",
    "\n",
    "# if not os.path.exists(f\"{file_name}\"):\n",
    "#     os.makedirs(\"text_data\")\n",
    "text_splitter = RecursiveCharacterTextSplitter(\n",
    "    chunk_size=1024,\n",
    "    chunk_overlap=200,\n",
    ")\n",
    "embedding = NomicEmbeddings(model=\"nomic-embed-text-v1.5\", inference_mode=\"local\")\n",
    "os.makedirs(\"vectorstore\", exist_ok=True)\n",
    "if not os.path.exists(f\"vectorstore/{file_name}.faiss\"):\n",
    "    with open(f\"text_data/{file_name}.txt\", \"r\") as f:\n",
    "        pdf_text = f.read()\n",
    "        passages = text_splitter.split_text(pdf_text)\n",
    "        # Define open source embeddings\n",
    "        vectorstore = faiss.FAISS.from_texts(\n",
    "            texts=passages,\n",
    "            embedding=embedding,\n",
    "        )\n",
    "        vectorstore.save_local(\"vectorstore\",file_name)\n",
    "else:\n",
    "    vectorstore = faiss.FAISS.load_local(\"vectorstore\",embedding, file_name, allow_dangerous_deserialization=True)\n",
    "retriever = vectorstore.as_retriever(search_kwargs={\"k\": 20})\n",
    "retriever.invoke(\"Quantity of stocks and securities for the purpose of underwriting.\")"
   ]
  },
  {
   "cell_type": "code",
   "execution_count": 7,
   "metadata": {},
   "outputs": [
    {
     "name": "stdout",
     "output_type": "stream",
     "text": [
      "{'score': 'no'}\n"
     ]
    }
   ],
   "source": [
    "### RETRIEVAL GRADER (MINIMUM TEST)\n",
    "\n",
    "from langchain_community.chat_models import ChatOllama\n",
    "from langchain_core.output_parsers import JsonOutputParser\n",
    "from langchain_core.prompts import PromptTemplate\n",
    "# LLM\n",
    "llm = ChatOllama(model=local_llm, format=\"json\", temperature=0)\n",
    "\n",
    "prompt = PromptTemplate(\n",
    "    template=\"\"\"<|begin_of_text|><|start_header_id|>system<|end_header_id|> You are a grader assessing relevance \n",
    "    of a retrieved document to a user question. If the document contains keywords related to the user question, \n",
    "    grade it as relevant. It does not need to be a stringent test. The goal is to filter out erroneous retrievals. \\n\n",
    "    Give a binary score 'yes' or 'no' score to indicate whether the document is relevant to the question. \\n\n",
    "    Provide the binary score as a JSON with a single key 'score' and no premable or explanation.\n",
    "     <|eot_id|><|start_header_id|>user<|end_header_id|>\n",
    "    Here is the retrieved document: \\n\\n {document} \\n\\n\n",
    "    Here is the user question: {question} \\n <|eot_id|><|start_header_id|>assistant<|end_header_id|>\n",
    "    \"\"\",\n",
    "    input_variables=[\"question\", \"document\"],\n",
    ")\n",
    "\n",
    "retrieval_grader = prompt | llm | JsonOutputParser()\n",
    "question = \"agent memory\"\n",
    "docs = retriever.invoke(question)\n",
    "doc_txt = docs[1].page_content\n",
    "print(retrieval_grader.invoke({\"question\": question, \"document\": doc_txt}))"
   ]
  },
  {
   "cell_type": "code",
   "execution_count": 18,
   "metadata": {},
   "outputs": [],
   "source": [
    "import langgraph\n",
    "\n",
    "from typing import Annotated, Sequence, TypedDict\n",
    "from langchain_core.messages import BaseMessage\n",
    "from langgraph.graph.message import add_messages\n",
    "\n",
    "class AgentState(TypedDict):\n",
    "    # The add_messages function defines how an update should be processed\n",
    "    # Default is to replace. add_messages says \"append\"\n",
    "    messages: Annotated[Sequence[BaseMessage], add_messages]"
   ]
  },
  {
   "cell_type": "markdown",
   "metadata": {},
   "source": [
    "def retrieval(state) -> Sequence[langgraph.Document]:\n",
    "    last_message = state[\"messages\"][-1]\n",
    "    state[\"documents\"] = retriever.invoke(last_message.text)\n",
    "    return "
   ]
  }
 ],
 "metadata": {
  "kernelspec": {
   "display_name": "llm",
   "language": "python",
   "name": "python3"
  },
  "language_info": {
   "codemirror_mode": {
    "name": "ipython",
    "version": 3
   },
   "file_extension": ".py",
   "mimetype": "text/x-python",
   "name": "python",
   "nbconvert_exporter": "python",
   "pygments_lexer": "ipython3",
   "version": "3.11.9"
  }
 },
 "nbformat": 4,
 "nbformat_minor": 2
}
